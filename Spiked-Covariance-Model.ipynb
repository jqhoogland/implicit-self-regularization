{
 "cells": [
  {
   "cell_type": "markdown",
   "metadata": {},
   "source": [
    "# Spiked Covariance Model\n",
    "\n",
    "This notboke\n",
    "\n",
    "### Demostrate of Edge Statistics of this Model\n",
    "(It is partially complete and could use a little work )\n",
    "\n",
    "\n",
    "#### Bulk Edge conventions:  Johnstone(statistics) vs Boucaud(physics)\n",
    "\n",
    "Depending on your point of view, stats or phys, we can express our uncertainty in $\\lambda^{+}$ in terms of $N$ or $M$. \n",
    "\n",
    "\n",
    "- Create an ensemble of Gaussian random matrices, each  with a rank 1 perturbation\n",
    "\n",
    "$$\\mathbf{W}^{rand}\\;(M\\times N)+2\\mathbf{\\Delta}_{0}\\; (rank 1) $$\n",
    "\n",
    " and form the Empirical Spectral Density (ESD), $\\rho_{emp}(\\lambda)$, of the $(M\\times M)$ correlation matrix\n",
    " \n",
    "$$\\mathbf{X}=\\dfrac{1}{N}\\mathbf{W}^{T}\\mathbf{W}^{T}$$\n",
    "\n",
    "\n",
    "- Demonstrate the fluctuations in both the MP bulk edge $\\lambda^{+}$\n",
    "\n",
    "- and the (Gaussian) shape of the fluctuations of the spikes $\\lambda_{k} > $\\lambda^{+}$\n",
    "\n",
    "\n",
    "#### References\n",
    "\n",
    "- Spiked Covariance Model of Johnstone\n",
    "\n",
    "- Applications to Finance, Bouchaud and co-workers\n",
    "\n",
    "- Sornette's model of Self Organization\n",
    "\n"
   ]
  },
  {
   "cell_type": "code",
   "execution_count": 1,
   "metadata": {
    "ExecuteTime": {
     "end_time": "2018-08-29T16:54:12.450642Z",
     "start_time": "2018-08-29T16:54:09.932439Z"
    }
   },
   "outputs": [
    {
     "name": "stderr",
     "output_type": "stream",
     "text": [
      "/Users/charlesmartin14/anaconda3/lib/python3.6/importlib/_bootstrap.py:219: RuntimeWarning: compiletime version 3.5 of module 'tensorflow.python.framework.fast_tensor_util' does not match runtime version 3.6\n",
      "  return f(*args, **kwds)\n",
      "/Users/charlesmartin14/.local/lib/python3.6/site-packages/h5py/__init__.py:34: FutureWarning: Conversion of the second argument of issubdtype from `float` to `np.floating` is deprecated. In future, it will be treated as `np.float64 == np.dtype(float).type`.\n",
      "  from ._conv import register_converters as _register_converters\n"
     ]
    },
    {
     "name": "stdout",
     "output_type": "stream",
     "text": [
      "0.19.1\n"
     ]
    }
   ],
   "source": [
    "import numpy as np\n",
    "import tensorflow as tf\n",
    "import pickle, time\n",
    "from copy import deepcopy\n",
    "from shutil import copy\n",
    "from tqdm import tqdm_notebook as tqdm\n",
    "import pandas as pd\n",
    "\n",
    "import matplotlib\n",
    "import matplotlib.pyplot as plt\n",
    "%matplotlib inline\n",
    "\n",
    "import import_ipynb\n",
    "\n",
    "import sklearn\n",
    "from sklearn.decomposition import TruncatedSVD\n",
    "from sklearn.random_projection import sparse_random_matrix\n",
    "print(sklearn.__version__)"
   ]
  },
  {
   "cell_type": "code",
   "execution_count": 2,
   "metadata": {
    "ExecuteTime": {
     "end_time": "2018-08-29T16:54:12.901495Z",
     "start_time": "2018-08-29T16:54:12.453155Z"
    }
   },
   "outputs": [
    {
     "name": "stdout",
     "output_type": "stream",
     "text": [
      "importing notebook from RMT_Util.ipynb\n",
      "3.6.5 |Anaconda custom (64-bit)| (default, Apr 26 2018, 08:42:37) \n",
      "[GCC 4.2.1 Compatible Clang 4.0.1 (tags/RELEASE_401/final)]\n",
      "numpy version 1.14.2\n",
      "scipy version 1.0.1\n",
      "tensforflow version 1.5.0-dev20171116\n",
      "keras version 2.1.5\n",
      "sklearn version 0.19.1\n",
      "powerlaw version 1.4.3\n"
     ]
    },
    {
     "name": "stderr",
     "output_type": "stream",
     "text": [
      "Using TensorFlow backend.\n"
     ]
    }
   ],
   "source": [
    "import RMT_Util"
   ]
  },
  {
   "cell_type": "markdown",
   "metadata": {},
   "source": [
    "### Create Random Matrix  \n",
    "\n",
    "$$N\\times M=1000\\times 500$$\n",
    "\n",
    "$$\\mu=0,\\; \\sigma=\\dfrac{1}{\\sqrt{N}}$$\n",
    "\n",
    "#### will add rank 1 perturbation\n",
    "\n",
    "using Python API\n",
    "\n",
    "https://docs.scipy.org/doc/numpy/reference/generated/numpy.random.normal.html\n"
   ]
  },
  {
   "cell_type": "code",
   "execution_count": 3,
   "metadata": {
    "ExecuteTime": {
     "end_time": "2018-08-29T16:54:13.447370Z",
     "start_time": "2018-08-29T16:54:12.903252Z"
    }
   },
   "outputs": [
    {
     "name": "stdout",
     "output_type": "stream",
     "text": [
      "% spikes outside bulk 0.00\n",
      "% sigma 0.9953\n"
     ]
    },
    {
     "name": "stderr",
     "output_type": "stream",
     "text": [
      "RMT_Util.ipynb:7: RuntimeWarning: divide by zero encountered in true_divide\n",
      "  \"## RMT Util\\n\",\n",
      "RMT_Util.ipynb:7: RuntimeWarning: invalid value encountered in sqrt\n",
      "  \"## RMT Util\\n\",\n"
     ]
    },
    {
     "data": {
      "text/plain": [
       "0.9953047167192505"
      ]
     },
     "execution_count": 3,
     "metadata": {},
     "output_type": "execute_result"
    },
    {
     "data": {
      "image/png": "[encoded data removed]",
      "text/plain": [
       "<Figure size 432x288 with 1 Axes>"
      ]
     },
     "metadata": {},
     "output_type": "display_data"
    }
   ],
   "source": [
    "W = np.random.normal(0.0, 1.0/np.sqrt(1000), (1000,500))\n",
    "Q = np.max(W.shape)/np.min(W.shape)\n",
    "evals, _ = RMT_Util.eigenspectrum(W)\n",
    "RMT_Util.plot_ESD_and_fit(eigenvalues=evals, Q=Q)"
   ]
  },
  {
   "cell_type": "markdown",
   "metadata": {},
   "source": [
    "### Add a random Rank 1 perturbation\n",
    "\n",
    "#### check that we see a spike\n",
    "\n",
    "$$\\mathbf{W}=\\mathbf{W}^{rand}+2\\mathbf{\\Delta}$$\n",
    "\n",
    "$\\mathbf{\\Delta}$ is a 1-D random vector , same mean and variance as $\\mathbf{W}^{rand}$\n"
   ]
  },
  {
   "cell_type": "code",
   "execution_count": 4,
   "metadata": {
    "ExecuteTime": {
     "end_time": "2018-08-29T16:54:13.991683Z",
     "start_time": "2018-08-29T16:54:13.449606Z"
    }
   },
   "outputs": [
    {
     "name": "stdout",
     "output_type": "stream",
     "text": [
      "% spikes outside bulk 0.00\n",
      "% sigma 1.1695\n"
     ]
    },
    {
     "name": "stderr",
     "output_type": "stream",
     "text": [
      "RMT_Util.ipynb:7: RuntimeWarning: divide by zero encountered in true_divide\n",
      "  \"## RMT Util\\n\",\n",
      "RMT_Util.ipynb:7: RuntimeWarning: invalid value encountered in sqrt\n",
      "  \"## RMT Util\\n\",\n"
     ]
    },
    {
     "data": {
      "text/plain": [
       "1.1694848374954956"
      ]
     },
     "execution_count": 4,
     "metadata": {},
     "output_type": "execute_result"
    },
    {
     "data": {
      "image/png": "[encoded data removed]",
      "text/plain": [
       "<Figure size 432x288 with 1 Axes>"
      ]
     },
     "metadata": {},
     "output_type": "display_data"
    }
   ],
   "source": [
    "R = np.random.normal(0.0, 1.0/np.sqrt(1000), (1000,500))\n",
    "D = np.zeros_like(R)\n",
    "D[0]= np.random.normal(0.0, 1.0/np.sqrt(1000), (500))\n",
    "W = R+2.0*D\n",
    "evals, _ = RMT_Util.eigenspectrum(W)\n",
    "RMT_Util.plot_ESD_and_fit(eigenvalues=evals, Q=Q)"
   ]
  },
  {
   "cell_type": "markdown",
   "metadata": {
    "ExecuteTime": {
     "end_time": "2018-06-30T01:28:28.196818Z",
     "start_time": "2018-06-30T01:28:28.191719Z"
    }
   },
   "source": [
    "### Generate ensemble (500) of Matrices w/(the same, simple) Rank 1 perturbation\n",
    "\n",
    "$$\\mathbf{W}=\\mathbf{W}^{rand}+2\\Delta_{0}$$\n",
    "\n",
    "where\n",
    "\n",
    "$$\\Delta_{0}=S_{min}=Q^{-1/4}$$\n",
    "\n",
    "is the minimum value needed to generate a spike\n"
   ]
  },
  {
   "cell_type": "markdown",
   "metadata": {
    "ExecuteTime": {
     "end_time": "2018-06-30T07:15:41.208952Z",
     "start_time": "2018-06-30T07:15:41.181728Z"
    }
   },
   "source": [
    "### Mean and Variance for Spiked Covariance\n",
    "\n",
    "#### Johnstone Conventions\n",
    "\n",
    "http://www.maths.usyd.edu.au/u/austms2013/talks/aust13Johnstone.pdf"
   ]
  },
  {
   "cell_type": "code",
   "execution_count": 5,
   "metadata": {
    "ExecuteTime": {
     "end_time": "2018-08-29T16:54:13.998116Z",
     "start_time": "2018-08-29T16:54:13.993906Z"
    }
   },
   "outputs": [],
   "source": [
    "def mp_var_scale(Q):\n",
    "    g = 1.0/Q #gamma\n",
    "    numer = np.cbrt(np.cbrt(g))\n",
    "    denom = np.cbrt(1.0+np.sqrt(g))**4\n",
    "    return numer/denom"
   ]
  },
  {
   "cell_type": "code",
   "execution_count": 6,
   "metadata": {
    "ExecuteTime": {
     "end_time": "2018-08-29T16:54:14.004777Z",
     "start_time": "2018-08-29T16:54:14.000975Z"
    }
   },
   "outputs": [],
   "source": [
    "def rho(Q,S):\n",
    "    \"\"\"MP mean value of max eigenvalue\"\"\"\n",
    "    g = 1.0/Q\n",
    "    h = S*S\n",
    "    return (1.0+h)*(1.0+(g/h))"
   ]
  },
  {
   "cell_type": "code",
   "execution_count": 7,
   "metadata": {
    "ExecuteTime": {
     "end_time": "2018-08-29T16:54:14.012037Z",
     "start_time": "2018-08-29T16:54:14.006695Z"
    }
   },
   "outputs": [],
   "source": [
    "def tau_squared(Q,S):\n",
    "    \"\"\"MP variance of max eigenvalue - rho (mean)\"\"\"\n",
    "    h = S*S\n",
    "    h1 = (1.0+h)\n",
    "    h2 = h*h\n",
    "    g = 1.0/Q\n",
    "    return 2.0*h1*h1*(1.0-(g/(h2)))"
   ]
  },
  {
   "cell_type": "markdown",
   "metadata": {},
   "source": [
    "#### check that these methods match the Bouchaud equations\n",
    "\n",
    "ONly checked mean value so far...still do not understand variance scaling"
   ]
  },
  {
   "cell_type": "code",
   "execution_count": 9,
   "metadata": {
    "ExecuteTime": {
     "end_time": "2018-08-29T16:55:32.776489Z",
     "start_time": "2018-08-29T16:55:32.773907Z"
    }
   },
   "outputs": [],
   "source": [
    "#rho(Q,S), RMT_Util.spike_lmax(S,Q)"
   ]
  },
  {
   "cell_type": "markdown",
   "metadata": {
    "ExecuteTime": {
     "end_time": "2018-06-30T02:35:38.847668Z",
     "start_time": "2018-06-30T02:35:38.844936Z"
    }
   },
   "source": [
    "#### Compute adjusted errors \n",
    "\n",
    "$$adjusted\\;errors\\;=\\;\\dfrac{\\lambda_{max}-\\rho(Q,S)}{\\tau(Q,S)}$$\n",
    "\n",
    "#### Check finite size scaling \n",
    "\n",
    "$$adjusted\\;errors\\times N^{1/2}\\rightarrow N(0,1)$$\n",
    "\n",
    "Where we have\n",
    "\n",
    "$$\\gamma=\\dfrac{1}{Q}$$\n",
    "\n",
    "and \n",
    "\n",
    "$$h=S=2\\times S_{min}$$"
   ]
  },
  {
   "cell_type": "code",
   "execution_count": 10,
   "metadata": {
    "ExecuteTime": {
     "end_time": "2018-08-29T17:00:24.202362Z",
     "start_time": "2018-08-29T16:55:32.952581Z"
    }
   },
   "outputs": [
    {
     "name": "stdout",
     "output_type": "stream",
     "text": [
      "\n"
     ]
    }
   ],
   "source": [
    "S_min = RMT_Util.spike_min(Q)\n",
    "evals = []\n",
    "max_evals = []\n",
    "max_errs = []\n",
    "adjusted_errs = []\n",
    "\n",
    "\n",
    "N, M = 1000, 500\n",
    "for ne in tqdm(range(1,1000)):\n",
    "    R = np.random.normal(0.0, 1.0/np.sqrt(N), (N,M))\n",
    "    D = np.zeros_like(R)\n",
    "\n",
    "    D[0,0]= 1.2*S_min\n",
    "    \n",
    "    W = R+D\n",
    "    Q = np.max(W.shape)/np.min(W.shape)\n",
    "    evals, _ = RMT_Util.eigenspectrum(W)\n",
    "    \n",
    "    #RMT_Util.plot_ESD_and_fit(eigenvalues=evals, Q=Q, sigma=1.0, alpha=0.25)\n",
    "    #sigma = RMT_Util.plot_ESD_and_fit(eigenvalues=evals, Q=Q, alpha=0.25, verbose=False)\n",
    "\n",
    "    S = np.max(np.abs(D))\n",
    "    emax = np.max(evals)\n",
    "    max_evals.append(emax)\n",
    "    max_errs.append(emax-RMT_Util.spike_lmax(S,Q))\n",
    "    adj_err= (emax-RMT_Util.spike_lmax(S,Q))/np.sqrt(tau_squared(Q,S))\n",
    "    adjusted_errs.append(adj_err)\n",
    "    \n",
    "plt.show()\n"
   ]
  },
  {
   "cell_type": "code",
   "execution_count": 11,
   "metadata": {
    "ExecuteTime": {
     "end_time": "2018-08-29T17:00:24.744788Z",
     "start_time": "2018-08-29T17:00:24.204306Z"
    }
   },
   "outputs": [
    {
     "data": {
      "text/plain": [
       "Text(0.5,1,'distrbution of adjusted errors in predicting spike at $2\\\\Delta=2Q^{-1/4}$  for $Q=2\\\\;\\\\;N,M=1000,500$')"
      ]
     },
     "execution_count": 11,
     "metadata": {},
     "output_type": "execute_result"
    },
    {
     "data": {
      "image/png": "[encoded data removed]",
      "text/plain": [
       "<Figure size 432x288 with 1 Axes>"
      ]
     },
     "metadata": {},
     "output_type": "display_data"
    }
   ],
   "source": [
    "plt.hist(adjusted_errs,bins=100, density=True);\n",
    "plt.title(r\"distrbution of adjusted errors in predicting spike at $2\\Delta=2Q^{-1/4}$  for $Q=2\\;\\;N,M=1000,500$\")"
   ]
  },
  {
   "cell_type": "markdown",
   "metadata": {},
   "source": [
    "#### Check that finite size scaling is $N^{1/2}$ and NOT $M^{1/2}$"
   ]
  },
  {
   "cell_type": "code",
   "execution_count": 12,
   "metadata": {
    "ExecuteTime": {
     "end_time": "2018-08-29T17:00:24.752394Z",
     "start_time": "2018-08-29T17:00:24.746913Z"
    }
   },
   "outputs": [
    {
     "data": {
      "text/plain": [
       "(0.027236485069126987, 0.044721359549995794, 0.60902632082726)"
      ]
     },
     "execution_count": 12,
     "metadata": {},
     "output_type": "execute_result"
    }
   ],
   "source": [
    "np.std(adjusted_errs), np.sqrt(1/M),np.std(adjusted_errs)* np.sqrt(M)"
   ]
  },
  {
   "cell_type": "code",
   "execution_count": 13,
   "metadata": {
    "ExecuteTime": {
     "end_time": "2018-08-29T17:00:24.760310Z",
     "start_time": "2018-08-29T17:00:24.754771Z"
    }
   },
   "outputs": [
    {
     "data": {
      "text/plain": [
       "(0.027236485069126987, 0.03162277660168379, 0.8612932827560988)"
      ]
     },
     "execution_count": 13,
     "metadata": {},
     "output_type": "execute_result"
    }
   ],
   "source": [
    "np.std(adjusted_errs), np.sqrt(1/N), np.std(adjusted_errs)* np.sqrt(N)"
   ]
  },
  {
   "cell_type": "markdown",
   "metadata": {},
   "source": [
    "### Bouchaud Scaling - at the EDGE he has $M^{-2/3}$ \n",
    "\n",
    "### BUT for the spikes it is $T^{-1/2}$\n",
    "\n",
    "see:  https://arxiv.org/pdf/0910.1205.pdf\n",
    "\n",
    "equations (66) for MP,  and (72) for spikes, with the text just below\n",
    "\n"
   ]
  },
  {
   "cell_type": "code",
   "execution_count": null,
   "metadata": {},
   "outputs": [],
   "source": []
  },
  {
   "cell_type": "code",
   "execution_count": null,
   "metadata": {},
   "outputs": [],
   "source": []
  },
  {
   "cell_type": "code",
   "execution_count": null,
   "metadata": {},
   "outputs": [],
   "source": []
  }
 ],
 "metadata": {
  "kernelspec": {
   "display_name": "Python 3.10.4 64-bit ('3.10.4')",
   "language": "python",
   "name": "python3"
  },
  "language_info": {
   "codemirror_mode": {
    "name": "ipython",
    "version": 3
   },
   "file_extension": ".py",
   "mimetype": "text/x-python",
   "name": "python",
   "nbconvert_exporter": "python",
   "pygments_lexer": "ipython3",
   "version": "3.10.4"
  },
  "vscode": {
   "interpreter": {
    "hash": "566ebdab7fa55cda649a271facedb3802cb49113077ba2088af32b3c4fcafbd2"
   }
  },
  "widgets": {
   "state": {
    "19da624521684c0fa4c779bd52c45781": {
     "views": [
      {
       "cell_index": 15
      }
     ]
    }
   },
   "version": "1.2.0"
  }
 },
 "nbformat": 4,
 "nbformat_minor": 2
}
