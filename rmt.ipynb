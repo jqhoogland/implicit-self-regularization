{
  "cells": [
    {
      "cell_type": "markdown",
      "metadata": {
        "colab_type": "text",
        "id": "view-in-github"
      },
      "source": [
        "<a href=\"https://colab.research.google.com/github/jqhoogland/implicit-self-regularization/blob/master/rmt.ipynb\" target=\"_parent\"><img src=\"https://colab.research.google.com/assets/colab-badge.svg\" alt=\"Open In Colab\"/></a>"
      ]
    },
    {
      "cell_type": "code",
      "execution_count": null,
      "metadata": {
        "colab": {
          "base_uri": "https://localhost:8080/"
        },
        "id": "SSHiPqJFbecs",
        "outputId": "bcd98a3e-3234-46d3-eabd-abab33a62c7b"
      },
      "outputs": [],
      "source": [
        "!pip install torch transformers ipywidgets powerlaw"
      ]
    },
    {
      "cell_type": "code",
      "execution_count": 1,
      "metadata": {
        "id": "gR0Y3xlab-sY"
      },
      "outputs": [],
      "source": [
        "# from typing import Literal\n",
        "\n",
        "import numpy as np\n",
        "import torch as t\n",
        "from torch import nn\n",
        "import ipywidgets as widgets\n",
        "from matplotlib import pyplot as plt\n",
        "import powerlaw"
      ]
    },
    {
      "cell_type": "code",
      "execution_count": 2,
      "metadata": {
        "id": "hHXGOV-KcFns"
      },
      "outputs": [],
      "source": [
        "def marchenko_pastur_pdf(x_min: float, x_max: float, Q: float, sigma=1):\n",
        "    y = 1 / Q\n",
        "    x = np.arange(x_min, x_max, 0.001)\n",
        "\n",
        "    b = np.power(sigma * (1 + np.sqrt(1 / Q)), 2) # Largest eigenvalue\n",
        "    a = np.power(sigma * (1 - np.sqrt(1 / Q)), 2) # Smallest eigenvalue\n",
        "    return x, (1 / (2 * np.pi * sigma * sigma * x * y)) * np.sqrt((b - x) * (x - a))\n",
        "\n",
        "# @widgets.interact(x_min=0., x_max=4., Q=(0.5, 20.))\n",
        "def plot_marchenko_pastur_pdf(x_min: float, x_max: float, Q: float, sigma=1):\n",
        "    x, y = marchenko_pastur_pdf(x_min, x_max, Q, sigma)\n",
        "    plt.plot(x, y)"
      ]
    },
    {
      "cell_type": "code",
      "execution_count": 3,
      "metadata": {
        "id": "t-COP-YHcute"
      },
      "outputs": [],
      "source": [
        "def calc_sigma(Q, evs):\n",
        "    lmax = np.max(evs)\n",
        "    inv_sqQ = 1.0/np.sqrt(Q)\n",
        "    sigma_2 = lmax/np.square(1+inv_sqQ)\n",
        "    sigma = np.sqrt(sigma_2)\n",
        "    return sigma"
      ]
    },
    {
      "cell_type": "markdown",
      "metadata": {
        "id": "Qpk2HQV5jgYd"
      },
      "source": [
        "$$\\sigma^{2}=\\lambda_{max}\\left(1+\\dfrac{1}{\\sqrt{Q}}\\right)^{-2}$$"
      ]
    },
    {
      "cell_type": "code",
      "execution_count": 70,
      "metadata": {
        "id": "dcUIylRjei7l"
      },
      "outputs": [],
      "source": [
        "def calc_lambda_plus(Q: float, sigma: float):\n",
        "    return np.power(sigma*(1 + np.sqrt(1/Q)),2)\n",
        "\n",
        "def calc_lambda_minus(Q: float, sigma: float):\n",
        "    return np.power(sigma*(1 - np.sqrt(1/Q)),2)\n",
        "\n",
        "def calc_sigma(Q: float, evs: np.ndarray):\n",
        "    lmax = np.max(evs)\n",
        "    inv_sqQ = 1.0 / np.sqrt(Q)\n",
        "    sigma_2 = lmax / np.square(1 + inv_sqQ)\n",
        "    sigma = np.sqrt(sigma_2)\n",
        "\n",
        "    return sigma\n",
        "\n",
        "def get_Q(W: np.ndarray):\n",
        "    M, N = W.shape\n",
        "\n",
        "    if M > N:\n",
        "        M, N = N, M\n",
        "\n",
        "    return N / M\n",
        "\n",
        "def get_svs_squared(W: np.ndarray, norm=False):\n",
        "    N, M = W.shape\n",
        "    if N < M:\n",
        "        X = np.dot(W,W.transpose())\n",
        "        \n",
        "    else:\n",
        "        X = np.dot(W.transpose(),W)\n",
        "       \n",
        "    # assumes matrix is full rank\n",
        "    if norm:\n",
        "        X = X/np.trace(X)\n",
        "        \n",
        "    return np.linalg.eig(X)[0]\n"
      ]
    },
    {
      "cell_type": "code",
      "execution_count": 71,
      "metadata": {
        "id": "LDSt8bEJg3CB"
      },
      "outputs": [],
      "source": [
        "def plot_ESD_and_fit(rect_matrix: np.ndarray, num_spikes=0, Q=None, sigma=None,\n",
        "                     alpha=0.25, color='blue', skip=False, verbose=True):\n",
        "    \"\"\"Plot histogram of eigenvalues, for Q, and fit Marchenk Pastur.  \n",
        "    If no sigma, calculates from maximum eigenvalue (minus spikes)\n",
        "    Can read keras weights from model if specified.  Does not read PyTorch\"\"\"\n",
        "    eigenvalues = get_svs_squared(rect_matrix)\n",
        "   \n",
        "    if skip:\n",
        "        plt.hist(eigenvalues, bins=100, alpha=alpha, color=color, density=True, label=r'$\\rho_{emp}(\\lambda)$')\n",
        "        return\n",
        "        \n",
        "    # sort, descending order, minus a few max eigenvalues (the spikes)\n",
        "    evals = np.sort(eigenvalues)[::-1][num_spikes:]\n",
        "\n",
        "    if Q is None:\n",
        "        Q = get_Q(rect_matrix)\n",
        "\n",
        "    if sigma is None:\n",
        "        sigma = calc_sigma(Q, evals)\n",
        "        \n",
        "    percent_mass = 100.0 * num_spikes / len(evals)\n",
        "\n",
        "    x_min, x_max =  0, np.max(evals)\n",
        "\n",
        "    xs, ys = marchenko_pastur_pdf(x_min, x_max, Q, sigma)\n",
        "    print(x_min, x_max, Q, sigma, xs)\n",
        "\n",
        "    if verbose:\n",
        "        print(\"% spikes outside bulk {0:.2f}\".format(percent_mass))\n",
        "        print(\"% sigma {0:.4f}\".format(sigma))\n",
        "\n",
        "    fig,ax = plt.subplots()\n",
        "    ax.plot(xs, ys, linewidth=1, color = 'r', label=\"MP fit\")\n",
        "    ax2 = ax.twinx()\n",
        "    ax2.hist(eigenvalues, bins=100, alpha=alpha, color=color, density=True, label=r'$\\rho_{emp}(\\lambda)$')\n",
        "    plt.title(\" ESD, MP Sigma={}\".format( sigma))\n",
        "    return sigma"
      ]
    },
    {
      "cell_type": "code",
      "execution_count": 72,
      "metadata": {
        "id": "oxLsqVBMh6o1"
      },
      "outputs": [],
      "source": [
        "def gen_matrix(N: int, M: int, sigma=1.):\n",
        "    return np.random.normal(size=(N, M), loc=0., scale=sigma**2)"
      ]
    },
    {
      "cell_type": "code",
      "execution_count": 73,
      "metadata": {
        "colab": {
          "base_uri": "https://localhost:8080/",
          "height": 444
        },
        "id": "XKzuettqiUPb",
        "outputId": "d6776911-656b-4b99-c291-0c2b6fb87e73"
      },
      "outputs": [
        {
          "name": "stderr",
          "output_type": "stream",
          "text": [
            "/var/folders/pw/6c492xhs4299155z1pvbwt8w0000gn/T/ipykernel_29680/3277450928.py:7: RuntimeWarning: divide by zero encountered in divide\n",
            "  return x, (1 / (2 * np.pi * sigma * sigma * x * y)) * np.sqrt((b - x) * (x - a))\n",
            "/var/folders/pw/6c492xhs4299155z1pvbwt8w0000gn/T/ipykernel_29680/3277450928.py:7: RuntimeWarning: invalid value encountered in sqrt\n",
            "  return x, (1 / (2 * np.pi * sigma * sigma * x * y)) * np.sqrt((b - x) * (x - a))\n"
          ]
        },
        {
          "name": "stdout",
          "output_type": "stream",
          "text": [
            "0 4512.312590503816 4.0 44.78249951092659 [0.000000e+00 1.000000e-03 2.000000e-03 ... 4.512310e+03 4.512311e+03\n",
            " 4.512312e+03]\n",
            "% spikes outside bulk 0.00\n",
            "% sigma 44.7825\n"
          ]
        },
        {
          "data": {
            "image/png": "[encoded data removed]",
            "text/plain": [
              "<Figure size 640x480 with 2 Axes>"
            ]
          },
          "metadata": {},
          "output_type": "display_data"
        }
      ],
      "source": [
        "test_matrix_1 = gen_matrix(500, 2000)\n",
        "plot_ESD_and_fit(test_matrix_1)\n",
        "plt.show()"
      ]
    },
    {
      "cell_type": "code",
      "execution_count": 65,
      "metadata": {
        "colab": {
          "base_uri": "https://localhost:8080/",
          "height": 265
        },
        "id": "w51T_HG3icxH",
        "outputId": "be0aa271-8d01-476d-aac8-ffc50a6a1a96"
      },
      "outputs": [
        {
          "data": {
            "image/png": "[encoded data removed]",
            "text/plain": [
              "<Figure size 640x480 with 1 Axes>"
            ]
          },
          "metadata": {},
          "output_type": "display_data"
        }
      ],
      "source": [
        "def scree_plot(matrix: np.ndarray, color='blue',label=''):    \n",
        "    evs = get_svs_squared(matrix)\n",
        "    eigvals = np.flip(np.sort(evs), axis=0)\n",
        "    sing_vals = np.arange(len(eigvals)) + 1\n",
        "    plt.plot(sing_vals, eigvals, color, linewidth=1,label=label)\n",
        "\n",
        "scree_plot(test_matrix_1)"
      ]
    },
    {
      "cell_type": "code",
      "execution_count": 66,
      "metadata": {
        "id": "L7vnYbmztC0O"
      },
      "outputs": [],
      "source": [
        "def get_mu(alpha):\n",
        "    if (alpha >= 2.0 and alpha <= 3.0):\n",
        "        mu = 2.0\n",
        "    elif (alpha < 2.0):\n",
        "        mu = 2.0*(alpha - 1.0)\n",
        "    elif (alpha > 3.0):\n",
        "        mu = alpha - 1.0\n",
        "    return mu\n",
        "\n",
        "def best_dist(fit):\n",
        "    distName = 'power_law'\n",
        "    dist = \"PL\"\n",
        "\n",
        "    R, p = fit.distribution_compare('truncated_power_law', 'power_law', normalized_ratio=True)\n",
        "    if R>0 and p <= 0.05:\n",
        "        distName = 'truncated_power_law'\n",
        "        dist = 'TPL'\n",
        "        \n",
        "    R, p = fit.distribution_compare(distName, 'exponential', normalized_ratio=True)\n",
        "    if R<0 and p <= 0.05:\n",
        "        dist = 'EXP'\n",
        "        return dist\n",
        "\n",
        "    R, p = fit.distribution_compare(distName, 'stretched_exponential', normalized_ratio=True)\n",
        "    if R<0 and p <= 0.05:\n",
        "        dist = 'S_EXP'\n",
        "        return dist\n",
        "        \n",
        "    R, p = fit.distribution_compare(distName, 'lognormal', normalized_ratio=True)\n",
        "    if R<0 and p <= 0.05:\n",
        "        dist = 'LOG_N'\n",
        "        return dist\n",
        "\n",
        "    return dist\n",
        "\n",
        "def fit_powerlaw(evals, verbose=True):\n",
        "    fit = powerlaw.Fit(evals, xmax=np.max(evals))\n",
        "    return [fit.alpha, fit.D, best_dist(fit)]\n",
        "\n",
        "def pareto_pdf(x_min: float, x_max: float, mu=1., scale=1.):\n",
        "    scale = mu\n",
        "\n",
        "    xs = np.arange(x_min  + 0.001, x_max, 0.001)\n",
        "    ys = mu * scale**mu / xs**(mu+1)\n",
        "    return xs, ys \n"
      ]
    },
    {
      "cell_type": "code",
      "execution_count": 116,
      "metadata": {
        "id": "QvAI7t4yuLeR"
      },
      "outputs": [],
      "source": [
        "def fit_and_plot_powerlaw(matrix: np.ndarray, verbose=True):\n",
        "    evals = get_svs_squared(matrix)\n",
        "    fit = powerlaw.Fit(evals, xmax=np.max(evals))\n",
        "    \n",
        "    alpha, D, best_pl = fit.alpha, fit.D, best_dist(fit)\n",
        "    \n",
        "    print(\"alpha {:3g}, D {:3g}, best_pl  {}\".format(alpha, D, best_pl))\n",
        "    \n",
        "    fig2 = fit.plot_pdf(color='b', linewidth=2)\n",
        "    fit.power_law.plot_pdf(color='b', linestyle='--', ax=fig2)\n",
        "    fit.plot_ccdf(color='r', linewidth=2, ax=fig2)\n",
        "    fit.power_law.plot_ccdf(color='r', linestyle='--', ax=fig2)\n",
        "    plt.show()           \n",
        "\n",
        "def fit_and_plot_powerlaw_with_bulk(rect_matrix: np.ndarray, Q=None, sigma=None,\n",
        "                     alpha=0.25, color='blue', skip=False, verbose=True):\n",
        "    eigenvalues = get_svs_squared(rect_matrix)\n",
        "    evals = np.sort(eigenvalues)[::-1]\n",
        "   \n",
        "    if skip:\n",
        "        bins = np.logspace(np.log10(np.min(evals)), np.log10(np.max(evals)), num=100)\n",
        "        plt.xscale('log')\n",
        "        plt.title(r'$\\rho_{emp}(\\lambda)$  $\\mathbf{W}(\\mu=1.2)$')\n",
        "        plt.xlabel(\"Log Log Histogram\")\n",
        "        plt.ylabel(r\"$\\rho_{emp}(x)$\")\n",
        "        plt.tight_layout()\n",
        "        plt.hist(eigenvalues, bins=bins, log=True, alpha=alpha, color=color, density=True, label=r'$\\rho_{emp}(\\lambda)$')\n",
        "        return\n",
        "        \n",
        "    # sort, descending order, minus a few max eigenvalues (the spikes)\n",
        "\n",
        "    fit = powerlaw.Fit(evals, xmax=np.max(evals))\n",
        "    alpha, D, dist = fit.alpha, fit.D, best_dist(fit)\n",
        "    mu = get_mu(alpha)\n",
        "\n",
        "    scale = 1.\n",
        "\n",
        "    x_min, x_max = 0, np.max(evals)\n",
        "\n",
        "    if dist == \"PL\":\n",
        "        print(mu, scale)\n",
        "        xs, ys = pareto_pdf(x_min, x_max, mu, scale)\n",
        "    else:\n",
        "        raise NotImplementedError(\"Non-PL fit not supported\")\n",
        "\n",
        "    if verbose:\n",
        "        print(\"% mu {0:.4f} scale {0:.4f}\".format(mu, scale))\n",
        "\n",
        "    fig, ax = plt.subplots()\n",
        "    ax.plot(np.log(xs), np.log(ys), linewidth=1, color = 'r', label=\"MP fit\")\n",
        "    ax.set_xscale('log')\n",
        "    ax.set_title(r'$\\rho_{emp}(\\lambda)$  $\\mathbf{W}(\\mu=1.2)$')\n",
        "    ax.set_xlabel(\"Log Log Histogram\")\n",
        "    ax.set_ylabel(r\"$\\rho_{emp}(x)$\")\n",
        "    ax2 = ax.twinx()\n",
        "    bins = np.logspace(np.log10(np.min(evals)), np.log10(np.max(evals)), num=100)\n",
        "    ax2.hist(eigenvalues, log=True, bins=bins, density=True, label=r'$\\rho_{emp}(\\lambda)$')\n",
        "    plt.tight_layout()\n",
        "    fig.show()\n"
      ]
    },
    {
      "cell_type": "code",
      "execution_count": 117,
      "metadata": {
        "id": "kyOq38cMuVwc"
      },
      "outputs": [],
      "source": [
        "# HT_Dist = Literal[\"PL\", \"TPL\", \"EXP\", \"S_EXP\", \"LOG_N\"]\n",
        "\n",
        "def gen_heavy_tail_matrix(N: int, M: int, alpha=6., mu=None, scale=1., sigma=0, mean=1, dist=\"PL\"):\n",
        "    if mu is None:\n",
        "        mu = get_mu(alpha)\n",
        "\n",
        "    if dist == \"PL\":\n",
        "        # return (np.random.pareto(mu, size=(N, M)) + 1) * scale\n",
        "        return np.random.pareto(mu, size=(N, M))\n",
        "\n",
        "    raise NotImplementedError()\n",
        "  \n"
      ]
    },
    {
      "cell_type": "code",
      "execution_count": 123,
      "metadata": {
        "colab": {
          "base_uri": "https://localhost:8080/"
        },
        "id": "qRML2VsewOGg",
        "outputId": "bef847fb-b7b7-454f-f58d-5286a2ea79e4"
      },
      "outputs": [
        {
          "data": {
            "application/vnd.jupyter.widget-view+json": {
              "model_id": "96d99bb31e4644f883126140683fa3fd",
              "version_major": 2,
              "version_minor": 0
            },
            "text/plain": [
              "interactive(children=(IntSlider(value=150, description='N', max=400, min=100), FloatSlider(value=3.0, descript…"
            ]
          },
          "metadata": {},
          "output_type": "display_data"
        }
      ],
      "source": [
        "@widgets.interact(N=(100, 400), Q=(1., 10), mu=(1., 10.), scale=(0.5, 10.))\n",
        "def plot_ht(N=150, Q=3.,  mu=3., scale=1.):\n",
        "    M = int(N * Q)\n",
        "    test_ht_matrix = gen_heavy_tail_matrix(N, M, mu=mu, scale=scale)\n",
        "    fit_and_plot_powerlaw_with_bulk(test_ht_matrix)"
      ]
    },
    {
      "cell_type": "code",
      "execution_count": 82,
      "metadata": {
        "id": "-MIGE2vzwmla"
      },
      "outputs": [
        {
          "name": "stdout",
          "output_type": "stream",
          "text": [
            "wte.weight torch.Size([50257, 768])\n",
            "wpe.weight torch.Size([1024, 768])\n",
            "h.0.ln_1.weight torch.Size([768])\n",
            "h.0.ln_1.bias torch.Size([768])\n",
            "h.0.attn.c_attn.weight torch.Size([768, 2304])\n",
            "h.0.attn.c_attn.bias torch.Size([2304])\n",
            "h.0.attn.c_proj.weight torch.Size([768, 768])\n",
            "h.0.attn.c_proj.bias torch.Size([768])\n",
            "h.0.ln_2.weight torch.Size([768])\n",
            "h.0.ln_2.bias torch.Size([768])\n",
            "h.0.mlp.c_fc.weight torch.Size([768, 3072])\n",
            "h.0.mlp.c_fc.bias torch.Size([3072])\n",
            "h.0.mlp.c_proj.weight torch.Size([3072, 768])\n",
            "h.0.mlp.c_proj.bias torch.Size([768])\n",
            "h.1.ln_1.weight torch.Size([768])\n",
            "h.1.ln_1.bias torch.Size([768])\n",
            "h.1.attn.c_attn.weight torch.Size([768, 2304])\n",
            "h.1.attn.c_attn.bias torch.Size([2304])\n",
            "h.1.attn.c_proj.weight torch.Size([768, 768])\n",
            "h.1.attn.c_proj.bias torch.Size([768])\n",
            "h.1.ln_2.weight torch.Size([768])\n",
            "h.1.ln_2.bias torch.Size([768])\n",
            "h.1.mlp.c_fc.weight torch.Size([768, 3072])\n",
            "h.1.mlp.c_fc.bias torch.Size([3072])\n",
            "h.1.mlp.c_proj.weight torch.Size([3072, 768])\n",
            "h.1.mlp.c_proj.bias torch.Size([768])\n",
            "h.2.ln_1.weight torch.Size([768])\n",
            "h.2.ln_1.bias torch.Size([768])\n",
            "h.2.attn.c_attn.weight torch.Size([768, 2304])\n",
            "h.2.attn.c_attn.bias torch.Size([2304])\n",
            "h.2.attn.c_proj.weight torch.Size([768, 768])\n",
            "h.2.attn.c_proj.bias torch.Size([768])\n",
            "h.2.ln_2.weight torch.Size([768])\n",
            "h.2.ln_2.bias torch.Size([768])\n",
            "h.2.mlp.c_fc.weight torch.Size([768, 3072])\n",
            "h.2.mlp.c_fc.bias torch.Size([3072])\n",
            "h.2.mlp.c_proj.weight torch.Size([3072, 768])\n",
            "h.2.mlp.c_proj.bias torch.Size([768])\n",
            "h.3.ln_1.weight torch.Size([768])\n",
            "h.3.ln_1.bias torch.Size([768])\n",
            "h.3.attn.c_attn.weight torch.Size([768, 2304])\n",
            "h.3.attn.c_attn.bias torch.Size([2304])\n",
            "h.3.attn.c_proj.weight torch.Size([768, 768])\n",
            "h.3.attn.c_proj.bias torch.Size([768])\n",
            "h.3.ln_2.weight torch.Size([768])\n",
            "h.3.ln_2.bias torch.Size([768])\n",
            "h.3.mlp.c_fc.weight torch.Size([768, 3072])\n",
            "h.3.mlp.c_fc.bias torch.Size([3072])\n",
            "h.3.mlp.c_proj.weight torch.Size([3072, 768])\n",
            "h.3.mlp.c_proj.bias torch.Size([768])\n",
            "h.4.ln_1.weight torch.Size([768])\n",
            "h.4.ln_1.bias torch.Size([768])\n",
            "h.4.attn.c_attn.weight torch.Size([768, 2304])\n",
            "h.4.attn.c_attn.bias torch.Size([2304])\n",
            "h.4.attn.c_proj.weight torch.Size([768, 768])\n",
            "h.4.attn.c_proj.bias torch.Size([768])\n",
            "h.4.ln_2.weight torch.Size([768])\n",
            "h.4.ln_2.bias torch.Size([768])\n",
            "h.4.mlp.c_fc.weight torch.Size([768, 3072])\n",
            "h.4.mlp.c_fc.bias torch.Size([3072])\n",
            "h.4.mlp.c_proj.weight torch.Size([3072, 768])\n",
            "h.4.mlp.c_proj.bias torch.Size([768])\n",
            "h.5.ln_1.weight torch.Size([768])\n",
            "h.5.ln_1.bias torch.Size([768])\n",
            "h.5.attn.c_attn.weight torch.Size([768, 2304])\n",
            "h.5.attn.c_attn.bias torch.Size([2304])\n",
            "h.5.attn.c_proj.weight torch.Size([768, 768])\n",
            "h.5.attn.c_proj.bias torch.Size([768])\n",
            "h.5.ln_2.weight torch.Size([768])\n",
            "h.5.ln_2.bias torch.Size([768])\n",
            "h.5.mlp.c_fc.weight torch.Size([768, 3072])\n",
            "h.5.mlp.c_fc.bias torch.Size([3072])\n",
            "h.5.mlp.c_proj.weight torch.Size([3072, 768])\n",
            "h.5.mlp.c_proj.bias torch.Size([768])\n",
            "h.6.ln_1.weight torch.Size([768])\n",
            "h.6.ln_1.bias torch.Size([768])\n",
            "h.6.attn.c_attn.weight torch.Size([768, 2304])\n",
            "h.6.attn.c_attn.bias torch.Size([2304])\n",
            "h.6.attn.c_proj.weight torch.Size([768, 768])\n",
            "h.6.attn.c_proj.bias torch.Size([768])\n",
            "h.6.ln_2.weight torch.Size([768])\n",
            "h.6.ln_2.bias torch.Size([768])\n",
            "h.6.mlp.c_fc.weight torch.Size([768, 3072])\n",
            "h.6.mlp.c_fc.bias torch.Size([3072])\n",
            "h.6.mlp.c_proj.weight torch.Size([3072, 768])\n",
            "h.6.mlp.c_proj.bias torch.Size([768])\n",
            "h.7.ln_1.weight torch.Size([768])\n",
            "h.7.ln_1.bias torch.Size([768])\n",
            "h.7.attn.c_attn.weight torch.Size([768, 2304])\n",
            "h.7.attn.c_attn.bias torch.Size([2304])\n",
            "h.7.attn.c_proj.weight torch.Size([768, 768])\n",
            "h.7.attn.c_proj.bias torch.Size([768])\n",
            "h.7.ln_2.weight torch.Size([768])\n",
            "h.7.ln_2.bias torch.Size([768])\n",
            "h.7.mlp.c_fc.weight torch.Size([768, 3072])\n",
            "h.7.mlp.c_fc.bias torch.Size([3072])\n",
            "h.7.mlp.c_proj.weight torch.Size([3072, 768])\n",
            "h.7.mlp.c_proj.bias torch.Size([768])\n",
            "h.8.ln_1.weight torch.Size([768])\n",
            "h.8.ln_1.bias torch.Size([768])\n",
            "h.8.attn.c_attn.weight torch.Size([768, 2304])\n",
            "h.8.attn.c_attn.bias torch.Size([2304])\n",
            "h.8.attn.c_proj.weight torch.Size([768, 768])\n",
            "h.8.attn.c_proj.bias torch.Size([768])\n",
            "h.8.ln_2.weight torch.Size([768])\n",
            "h.8.ln_2.bias torch.Size([768])\n",
            "h.8.mlp.c_fc.weight torch.Size([768, 3072])\n",
            "h.8.mlp.c_fc.bias torch.Size([3072])\n",
            "h.8.mlp.c_proj.weight torch.Size([3072, 768])\n",
            "h.8.mlp.c_proj.bias torch.Size([768])\n",
            "h.9.ln_1.weight torch.Size([768])\n",
            "h.9.ln_1.bias torch.Size([768])\n",
            "h.9.attn.c_attn.weight torch.Size([768, 2304])\n",
            "h.9.attn.c_attn.bias torch.Size([2304])\n",
            "h.9.attn.c_proj.weight torch.Size([768, 768])\n",
            "h.9.attn.c_proj.bias torch.Size([768])\n",
            "h.9.ln_2.weight torch.Size([768])\n",
            "h.9.ln_2.bias torch.Size([768])\n",
            "h.9.mlp.c_fc.weight torch.Size([768, 3072])\n",
            "h.9.mlp.c_fc.bias torch.Size([3072])\n",
            "h.9.mlp.c_proj.weight torch.Size([3072, 768])\n",
            "h.9.mlp.c_proj.bias torch.Size([768])\n",
            "h.10.ln_1.weight torch.Size([768])\n",
            "h.10.ln_1.bias torch.Size([768])\n",
            "h.10.attn.c_attn.weight torch.Size([768, 2304])\n",
            "h.10.attn.c_attn.bias torch.Size([2304])\n",
            "h.10.attn.c_proj.weight torch.Size([768, 768])\n",
            "h.10.attn.c_proj.bias torch.Size([768])\n",
            "h.10.ln_2.weight torch.Size([768])\n",
            "h.10.ln_2.bias torch.Size([768])\n",
            "h.10.mlp.c_fc.weight torch.Size([768, 3072])\n",
            "h.10.mlp.c_fc.bias torch.Size([3072])\n",
            "h.10.mlp.c_proj.weight torch.Size([3072, 768])\n",
            "h.10.mlp.c_proj.bias torch.Size([768])\n",
            "h.11.ln_1.weight torch.Size([768])\n",
            "h.11.ln_1.bias torch.Size([768])\n",
            "h.11.attn.c_attn.weight torch.Size([768, 2304])\n",
            "h.11.attn.c_attn.bias torch.Size([2304])\n",
            "h.11.attn.c_proj.weight torch.Size([768, 768])\n",
            "h.11.attn.c_proj.bias torch.Size([768])\n",
            "h.11.ln_2.weight torch.Size([768])\n",
            "h.11.ln_2.bias torch.Size([768])\n",
            "h.11.mlp.c_fc.weight torch.Size([768, 3072])\n",
            "h.11.mlp.c_fc.bias torch.Size([3072])\n",
            "h.11.mlp.c_proj.weight torch.Size([3072, 768])\n",
            "h.11.mlp.c_proj.bias torch.Size([768])\n",
            "ln_f.weight torch.Size([768])\n",
            "ln_f.bias torch.Size([768])\n",
            "wte.weight torch.Size([50257, 768])\n",
            "wpe.weight torch.Size([1024, 768])\n",
            "h.0.ln_1.weight torch.Size([768])\n",
            "h.0.ln_1.bias torch.Size([768])\n",
            "h.0.attn.c_attn.weight torch.Size([768, 2304])\n",
            "h.0.attn.c_attn.bias torch.Size([2304])\n",
            "h.0.attn.c_proj.weight torch.Size([768, 768])\n",
            "h.0.attn.c_proj.bias torch.Size([768])\n",
            "h.0.ln_2.weight torch.Size([768])\n",
            "h.0.ln_2.bias torch.Size([768])\n",
            "h.0.mlp.c_fc.weight torch.Size([768, 3072])\n",
            "h.0.mlp.c_fc.bias torch.Size([3072])\n",
            "h.0.mlp.c_proj.weight torch.Size([3072, 768])\n",
            "h.0.mlp.c_proj.bias torch.Size([768])\n",
            "h.1.ln_1.weight torch.Size([768])\n",
            "h.1.ln_1.bias torch.Size([768])\n",
            "h.1.attn.c_attn.weight torch.Size([768, 2304])\n",
            "h.1.attn.c_attn.bias torch.Size([2304])\n",
            "h.1.attn.c_proj.weight torch.Size([768, 768])\n",
            "h.1.attn.c_proj.bias torch.Size([768])\n",
            "h.1.ln_2.weight torch.Size([768])\n",
            "h.1.ln_2.bias torch.Size([768])\n",
            "h.1.mlp.c_fc.weight torch.Size([768, 3072])\n",
            "h.1.mlp.c_fc.bias torch.Size([3072])\n",
            "h.1.mlp.c_proj.weight torch.Size([3072, 768])\n",
            "h.1.mlp.c_proj.bias torch.Size([768])\n",
            "h.2.ln_1.weight torch.Size([768])\n",
            "h.2.ln_1.bias torch.Size([768])\n",
            "h.2.attn.c_attn.weight torch.Size([768, 2304])\n",
            "h.2.attn.c_attn.bias torch.Size([2304])\n",
            "h.2.attn.c_proj.weight torch.Size([768, 768])\n",
            "h.2.attn.c_proj.bias torch.Size([768])\n",
            "h.2.ln_2.weight torch.Size([768])\n",
            "h.2.ln_2.bias torch.Size([768])\n",
            "h.2.mlp.c_fc.weight torch.Size([768, 3072])\n",
            "h.2.mlp.c_fc.bias torch.Size([3072])\n",
            "h.2.mlp.c_proj.weight torch.Size([3072, 768])\n",
            "h.2.mlp.c_proj.bias torch.Size([768])\n",
            "h.3.ln_1.weight torch.Size([768])\n",
            "h.3.ln_1.bias torch.Size([768])\n",
            "h.3.attn.c_attn.weight torch.Size([768, 2304])\n",
            "h.3.attn.c_attn.bias torch.Size([2304])\n",
            "h.3.attn.c_proj.weight torch.Size([768, 768])\n",
            "h.3.attn.c_proj.bias torch.Size([768])\n",
            "h.3.ln_2.weight torch.Size([768])\n",
            "h.3.ln_2.bias torch.Size([768])\n",
            "h.3.mlp.c_fc.weight torch.Size([768, 3072])\n",
            "h.3.mlp.c_fc.bias torch.Size([3072])\n",
            "h.3.mlp.c_proj.weight torch.Size([3072, 768])\n",
            "h.3.mlp.c_proj.bias torch.Size([768])\n",
            "h.4.ln_1.weight torch.Size([768])\n",
            "h.4.ln_1.bias torch.Size([768])\n",
            "h.4.attn.c_attn.weight torch.Size([768, 2304])\n",
            "h.4.attn.c_attn.bias torch.Size([2304])\n",
            "h.4.attn.c_proj.weight torch.Size([768, 768])\n",
            "h.4.attn.c_proj.bias torch.Size([768])\n",
            "h.4.ln_2.weight torch.Size([768])\n",
            "h.4.ln_2.bias torch.Size([768])\n",
            "h.4.mlp.c_fc.weight torch.Size([768, 3072])\n",
            "h.4.mlp.c_fc.bias torch.Size([3072])\n",
            "h.4.mlp.c_proj.weight torch.Size([3072, 768])\n",
            "h.4.mlp.c_proj.bias torch.Size([768])\n",
            "h.5.ln_1.weight torch.Size([768])\n",
            "h.5.ln_1.bias torch.Size([768])\n",
            "h.5.attn.c_attn.weight torch.Size([768, 2304])\n",
            "h.5.attn.c_attn.bias torch.Size([2304])\n",
            "h.5.attn.c_proj.weight torch.Size([768, 768])\n",
            "h.5.attn.c_proj.bias torch.Size([768])\n",
            "h.5.ln_2.weight torch.Size([768])\n",
            "h.5.ln_2.bias torch.Size([768])\n",
            "h.5.mlp.c_fc.weight torch.Size([768, 3072])\n",
            "h.5.mlp.c_fc.bias torch.Size([3072])\n",
            "h.5.mlp.c_proj.weight torch.Size([3072, 768])\n",
            "h.5.mlp.c_proj.bias torch.Size([768])\n",
            "h.6.ln_1.weight torch.Size([768])\n",
            "h.6.ln_1.bias torch.Size([768])\n",
            "h.6.attn.c_attn.weight torch.Size([768, 2304])\n",
            "h.6.attn.c_attn.bias torch.Size([2304])\n",
            "h.6.attn.c_proj.weight torch.Size([768, 768])\n",
            "h.6.attn.c_proj.bias torch.Size([768])\n",
            "h.6.ln_2.weight torch.Size([768])\n",
            "h.6.ln_2.bias torch.Size([768])\n",
            "h.6.mlp.c_fc.weight torch.Size([768, 3072])\n",
            "h.6.mlp.c_fc.bias torch.Size([3072])\n",
            "h.6.mlp.c_proj.weight torch.Size([3072, 768])\n",
            "h.6.mlp.c_proj.bias torch.Size([768])\n",
            "h.7.ln_1.weight torch.Size([768])\n",
            "h.7.ln_1.bias torch.Size([768])\n",
            "h.7.attn.c_attn.weight torch.Size([768, 2304])\n",
            "h.7.attn.c_attn.bias torch.Size([2304])\n",
            "h.7.attn.c_proj.weight torch.Size([768, 768])\n",
            "h.7.attn.c_proj.bias torch.Size([768])\n",
            "h.7.ln_2.weight torch.Size([768])\n",
            "h.7.ln_2.bias torch.Size([768])\n",
            "h.7.mlp.c_fc.weight torch.Size([768, 3072])\n",
            "h.7.mlp.c_fc.bias torch.Size([3072])\n",
            "h.7.mlp.c_proj.weight torch.Size([3072, 768])\n",
            "h.7.mlp.c_proj.bias torch.Size([768])\n",
            "h.8.ln_1.weight torch.Size([768])\n",
            "h.8.ln_1.bias torch.Size([768])\n",
            "h.8.attn.c_attn.weight torch.Size([768, 2304])\n",
            "h.8.attn.c_attn.bias torch.Size([2304])\n",
            "h.8.attn.c_proj.weight torch.Size([768, 768])\n",
            "h.8.attn.c_proj.bias torch.Size([768])\n",
            "h.8.ln_2.weight torch.Size([768])\n",
            "h.8.ln_2.bias torch.Size([768])\n",
            "h.8.mlp.c_fc.weight torch.Size([768, 3072])\n",
            "h.8.mlp.c_fc.bias torch.Size([3072])\n",
            "h.8.mlp.c_proj.weight torch.Size([3072, 768])\n",
            "h.8.mlp.c_proj.bias torch.Size([768])\n",
            "h.9.ln_1.weight torch.Size([768])\n",
            "h.9.ln_1.bias torch.Size([768])\n",
            "h.9.attn.c_attn.weight torch.Size([768, 2304])\n",
            "h.9.attn.c_attn.bias torch.Size([2304])\n",
            "h.9.attn.c_proj.weight torch.Size([768, 768])\n",
            "h.9.attn.c_proj.bias torch.Size([768])\n",
            "h.9.ln_2.weight torch.Size([768])\n",
            "h.9.ln_2.bias torch.Size([768])\n",
            "h.9.mlp.c_fc.weight torch.Size([768, 3072])\n",
            "h.9.mlp.c_fc.bias torch.Size([3072])\n",
            "h.9.mlp.c_proj.weight torch.Size([3072, 768])\n",
            "h.9.mlp.c_proj.bias torch.Size([768])\n",
            "h.10.ln_1.weight torch.Size([768])\n",
            "h.10.ln_1.bias torch.Size([768])\n",
            "h.10.attn.c_attn.weight torch.Size([768, 2304])\n",
            "h.10.attn.c_attn.bias torch.Size([2304])\n",
            "h.10.attn.c_proj.weight torch.Size([768, 768])\n",
            "h.10.attn.c_proj.bias torch.Size([768])\n",
            "h.10.ln_2.weight torch.Size([768])\n",
            "h.10.ln_2.bias torch.Size([768])\n",
            "h.10.mlp.c_fc.weight torch.Size([768, 3072])\n",
            "h.10.mlp.c_fc.bias torch.Size([3072])\n",
            "h.10.mlp.c_proj.weight torch.Size([3072, 768])\n",
            "h.10.mlp.c_proj.bias torch.Size([768])\n",
            "h.11.ln_1.weight torch.Size([768])\n",
            "h.11.ln_1.bias torch.Size([768])\n",
            "h.11.attn.c_attn.weight torch.Size([768, 2304])\n",
            "h.11.attn.c_attn.bias torch.Size([2304])\n",
            "h.11.attn.c_proj.weight torch.Size([768, 768])\n",
            "h.11.attn.c_proj.bias torch.Size([768])\n",
            "h.11.ln_2.weight torch.Size([768])\n",
            "h.11.ln_2.bias torch.Size([768])\n",
            "h.11.mlp.c_fc.weight torch.Size([768, 3072])\n",
            "h.11.mlp.c_fc.bias torch.Size([3072])\n",
            "h.11.mlp.c_proj.weight torch.Size([3072, 768])\n",
            "h.11.mlp.c_proj.bias torch.Size([768])\n",
            "ln_f.weight torch.Size([768])\n",
            "ln_f.bias torch.Size([768])\n",
            "12\n",
            "12\n"
          ]
        }
      ],
      "source": [
        "from transformers import GPT2Tokenizer, GPT2Model\n",
        "import numpy as np\n",
        "import pickle\n",
        "import torch \n",
        "\n",
        "tokenizer = GPT2Tokenizer.from_pretrained('gpt2')\n",
        "model = GPT2Model.from_pretrained('gpt2')\n",
        "attention_weight_matrix = []\n",
        "mlp_weight_matrix = []\n",
        "for name, param in model.named_parameters():\n",
        "    print(name, param.shape)\n",
        "\n",
        "for name, param in model.named_parameters():\n",
        "    print(name, param.shape)\n",
        "    if name.__contains__(\"attn\") and name.__contains__(\"weight\") and not name.__contains__(\"proj\"):\n",
        "        attention_weight_matrix.append(param.detach().numpy())\n",
        "    elif name.__contains__(\"mlp\") and name.__contains__(\"weight\") and not name.__contains__(\"proj\"):\n",
        "        mlp_weight_matrix.append(param.detach().numpy())\n",
        "\n",
        "print(len(attention_weight_matrix))\n",
        "print(len(mlp_weight_matrix))\n",
        "\n",
        "with open(\"attention_weights\", 'wb') as f:\n",
        "    pickle.dump(attention_weight_matrix, f)\n",
        "\n",
        "with open(\"mlp_weights\", 'wb') as f:\n",
        "    pickle.dump(mlp_weight_matrix, f)\n",
        "\n",
        "#this is how you load it again\n",
        "with open(\"attention_weights\", 'rb') as f:\n",
        "    attention_weight_matrix = pickle.load( f)\n",
        "\n",
        "with open(\"mlp_weights\", 'rb') as f:\n",
        "    mlp_weight_matrix = pickle.load( f)\n"
      ]
    },
    {
      "cell_type": "code",
      "execution_count": 125,
      "metadata": {},
      "outputs": [
        {
          "data": {
            "application/vnd.jupyter.widget-view+json": {
              "model_id": "ae27863a9d2f43eeb30c91ae6bd315ae",
              "version_major": 2,
              "version_minor": 0
            },
            "text/plain": [
              "interactive(children=(IntSlider(value=1, description='layer', max=12, min=1), Output()), _dom_classes=('widget…"
            ]
          },
          "metadata": {},
          "output_type": "display_data"
        }
      ],
      "source": [
        "@widgets.interact(layer=(1, 12))\n",
        "def plot(layer=1):\n",
        "    plot_ESD_and_fit(attention_weight_matrix[layer])"
      ]
    },
    {
      "cell_type": "code",
      "execution_count": 126,
      "metadata": {},
      "outputs": [
        {
          "data": {
            "application/vnd.jupyter.widget-view+json": {
              "model_id": "4564cefd338344c39bc5bf6c663e282f",
              "version_major": 2,
              "version_minor": 0
            },
            "text/plain": [
              "interactive(children=(IntSlider(value=1, description='layer', max=12, min=1), Output()), _dom_classes=('widget…"
            ]
          },
          "metadata": {},
          "output_type": "display_data"
        }
      ],
      "source": [
        "@widgets.interact(layer=(1, 12))\n",
        "def plot_pl(layer=1):\n",
        "    fit_and_plot_powerlaw(attention_weight_matrix[layer])"
      ]
    },
    {
      "cell_type": "code",
      "execution_count": 127,
      "metadata": {},
      "outputs": [
        {
          "data": {
            "application/vnd.jupyter.widget-view+json": {
              "model_id": "f8e67d11d8cd4eb18582f97ff79bb1bd",
              "version_major": 2,
              "version_minor": 0
            },
            "text/plain": [
              "interactive(children=(IntSlider(value=1, description='layer', max=12, min=1), Output()), _dom_classes=('widget…"
            ]
          },
          "metadata": {},
          "output_type": "display_data"
        }
      ],
      "source": [
        "@widgets.interact(layer=(1, 12))\n",
        "def plot_pl_with_bulk(layer=1):\n",
        "    fit_and_plot_powerlaw_with_bulk(attention_weight_matrix[layer], skip=True)"
      ]
    },
    {
      "cell_type": "code",
      "execution_count": 128,
      "metadata": {},
      "outputs": [
        {
          "data": {
            "application/vnd.jupyter.widget-view+json": {
              "model_id": "9da57222078d412a81aea6b56c31e75c",
              "version_major": 2,
              "version_minor": 0
            },
            "text/plain": [
              "interactive(children=(IntSlider(value=1, description='layer', max=12, min=1), Output()), _dom_classes=('widget…"
            ]
          },
          "metadata": {},
          "output_type": "display_data"
        }
      ],
      "source": [
        "@widgets.interact(layer=(1, 12))\n",
        "def plot_mlp(layer=1):\n",
        "    plot_ESD_and_fit(mlp_weight_matrix[layer])"
      ]
    },
    {
      "cell_type": "code",
      "execution_count": 129,
      "metadata": {},
      "outputs": [
        {
          "data": {
            "application/vnd.jupyter.widget-view+json": {
              "model_id": "390b81df342c40fcbb026155ed26a2bf",
              "version_major": 2,
              "version_minor": 0
            },
            "text/plain": [
              "interactive(children=(IntSlider(value=1, description='layer', max=12, min=1), Output()), _dom_classes=('widget…"
            ]
          },
          "metadata": {},
          "output_type": "display_data"
        }
      ],
      "source": [
        "@widgets.interact(layer=(1, 12))\n",
        "def plot_mlp_pl(layer=1):\n",
        "    fit_and_plot_powerlaw(mlp_weight_matrix[layer])"
      ]
    },
    {
      "cell_type": "code",
      "execution_count": 130,
      "metadata": {},
      "outputs": [
        {
          "data": {
            "application/vnd.jupyter.widget-view+json": {
              "model_id": "ace78b0ee96e479ea301d85075d96103",
              "version_major": 2,
              "version_minor": 0
            },
            "text/plain": [
              "interactive(children=(IntSlider(value=1, description='layer', max=12, min=1), Output()), _dom_classes=('widget…"
            ]
          },
          "metadata": {},
          "output_type": "display_data"
        }
      ],
      "source": [
        "@widgets.interact(layer=(1, 12))\n",
        "def plot_mlp_pl(layer=1):\n",
        "    fit_and_plot_powerlaw_with_bulk(mlp_weight_matrix[layer], skip=True)"
      ]
    },
    {
      "cell_type": "code",
      "execution_count": null,
      "metadata": {},
      "outputs": [],
      "source": []
    }
  ],
  "metadata": {
    "accelerator": "GPU",
    "colab": {
      "collapsed_sections": [],
      "include_colab_link": true,
      "provenance": []
    },
    "gpuClass": "premium",
    "kernelspec": {
      "display_name": "Python 3.10.8 ('notes-Szvzhu7a')",
      "language": "python",
      "name": "python3"
    },
    "language_info": {
      "codemirror_mode": {
        "name": "ipython",
        "version": 3
      },
      "file_extension": ".py",
      "mimetype": "text/x-python",
      "name": "python",
      "nbconvert_exporter": "python",
      "pygments_lexer": "ipython3",
      "version": "3.10.8"
    },
    "vscode": {
      "interpreter": {
        "hash": "8e19e98c1663512e4ab445fbd0ba1d11a615d7c9869472ffe0065bf2036c088a"
      }
    }
  },
  "nbformat": 4,
  "nbformat_minor": 0
}
