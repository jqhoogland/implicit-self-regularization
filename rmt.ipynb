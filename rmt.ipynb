{
 "cells": [
  {
   "cell_type": "markdown",
   "metadata": {
    "colab_type": "text",
    "id": "view-in-github"
   },
   "source": [
    "<a href=\"https://colab.research.google.com/github/jqhoogland/implicit-self-regularization/blob/master/rmt.ipynb\" target=\"_parent\"><img src=\"https://colab.research.google.com/assets/colab-badge.svg\" alt=\"Open In Colab\"/></a>"
   ]
  },
  {
   "cell_type": "code",
   "execution_count": 49,
   "metadata": {
    "colab": {
     "base_uri": "https://localhost:8080/"
    },
    "id": "SSHiPqJFbecs",
    "outputId": "bcd98a3e-3234-46d3-eabd-abab33a62c7b"
   },
   "outputs": [
    {
     "name": "stdout",
     "output_type": "stream",
     "text": [
      "Requirement already satisfied: torch in c:\\users\\rauno\\appdata\\local\\programs\\python\\python310\\lib\\site-packages (1.13.0)\n",
      "Requirement already satisfied: transformers in c:\\users\\rauno\\appdata\\local\\programs\\python\\python310\\lib\\site-packages (4.16.2)\n",
      "Requirement already satisfied: ipywidgets in c:\\users\\rauno\\appdata\\local\\programs\\python\\python310\\lib\\site-packages (7.7.1)\n",
      "Requirement already satisfied: powerlaw in c:\\users\\rauno\\appdata\\local\\programs\\python\\python310\\lib\\site-packages (1.5)\n",
      "Requirement already satisfied: typing-extensions in c:\\users\\rauno\\appdata\\local\\programs\\python\\python310\\lib\\site-packages (from torch) (4.1.0)\n",
      "Requirement already satisfied: numpy>=1.17 in c:\\users\\rauno\\appdata\\local\\programs\\python\\python310\\lib\\site-packages (from transformers) (1.22.2)\n",
      "Requirement already satisfied: regex!=2019.12.17 in c:\\users\\rauno\\appdata\\local\\programs\\python\\python310\\lib\\site-packages (from transformers) (2022.1.18)\n",
      "Requirement already satisfied: requests in c:\\users\\rauno\\appdata\\local\\programs\\python\\python310\\lib\\site-packages (from transformers) (2.27.1)\n",
      "Requirement already satisfied: tokenizers!=0.11.3,>=0.10.1 in c:\\users\\rauno\\appdata\\local\\programs\\python\\python310\\lib\\site-packages (from transformers) (0.11.4)\n",
      "Requirement already satisfied: pyyaml>=5.1 in c:\\users\\rauno\\appdata\\local\\programs\\python\\python310\\lib\\site-packages (from transformers) (6.0)\n",
      "Requirement already satisfied: sacremoses in c:\\users\\rauno\\appdata\\local\\programs\\python\\python310\\lib\\site-packages (from transformers) (0.0.47)\n",
      "Requirement already satisfied: filelock in c:\\users\\rauno\\appdata\\local\\programs\\python\\python310\\lib\\site-packages (from transformers) (3.4.2)\n",
      "Requirement already satisfied: huggingface-hub<1.0,>=0.1.0 in c:\\users\\rauno\\appdata\\local\\programs\\python\\python310\\lib\\site-packages (from transformers) (0.4.0)\n",
      "Requirement already satisfied: tqdm>=4.27 in c:\\users\\rauno\\appdata\\local\\programs\\python\\python310\\lib\\site-packages (from transformers) (4.62.3)\n",
      "Requirement already satisfied: packaging>=20.0 in c:\\users\\rauno\\appdata\\local\\programs\\python\\python310\\lib\\site-packages (from transformers) (21.3)\n",
      "Requirement already satisfied: ipython-genutils~=0.2.0 in c:\\users\\rauno\\appdata\\local\\programs\\python\\python310\\lib\\site-packages (from ipywidgets) (0.2.0)\n",
      "Requirement already satisfied: widgetsnbextension~=3.6.0 in c:\\users\\rauno\\appdata\\local\\programs\\python\\python310\\lib\\site-packages (from ipywidgets) (3.6.1)\n"
     ]
    },
    {
     "name": "stderr",
     "output_type": "stream",
     "text": [
      "WARNING: You are using pip version 22.0.3; however, version 22.3.1 is available.\n",
      "You should consider upgrading via the 'C:\\Users\\rauno\\AppData\\Local\\Programs\\Python\\Python310\\python.exe -m pip install --upgrade pip' command.\n"
     ]
    },
    {
     "name": "stdout",
     "output_type": "stream",
     "text": [
      "Requirement already satisfied: ipython>=4.0.0 in c:\\users\\rauno\\appdata\\local\\programs\\python\\python310\\lib\\site-packages (from ipywidgets) (8.0.1)\n",
      "Requirement already satisfied: ipykernel>=4.5.1 in c:\\users\\rauno\\appdata\\roaming\\python\\python310\\site-packages (from ipywidgets) (6.9.0)\n",
      "Requirement already satisfied: jupyterlab-widgets>=1.0.0 in c:\\users\\rauno\\appdata\\local\\programs\\python\\python310\\lib\\site-packages (from ipywidgets) (1.1.1)\n",
      "Requirement already satisfied: traitlets>=4.3.1 in c:\\users\\rauno\\appdata\\local\\programs\\python\\python310\\lib\\site-packages (from ipywidgets) (5.1.1)\n",
      "Requirement already satisfied: matplotlib in c:\\users\\rauno\\appdata\\local\\programs\\python\\python310\\lib\\site-packages (from powerlaw) (3.5.1)\n",
      "Requirement already satisfied: scipy in c:\\users\\rauno\\appdata\\local\\programs\\python\\python310\\lib\\site-packages (from powerlaw) (1.8.0)\n",
      "Requirement already satisfied: mpmath in c:\\users\\rauno\\appdata\\local\\programs\\python\\python310\\lib\\site-packages (from powerlaw) (1.2.1)\n",
      "Requirement already satisfied: debugpy<2.0,>=1.0.0 in c:\\users\\rauno\\appdata\\roaming\\python\\python310\\site-packages (from ipykernel>=4.5.1->ipywidgets) (1.5.1)\n",
      "Requirement already satisfied: tornado<7.0,>=4.2 in c:\\users\\rauno\\appdata\\roaming\\python\\python310\\site-packages (from ipykernel>=4.5.1->ipywidgets) (6.1)\n",
      "Requirement already satisfied: jupyter-client<8.0 in c:\\users\\rauno\\appdata\\roaming\\python\\python310\\site-packages (from ipykernel>=4.5.1->ipywidgets) (7.1.2)\n",
      "Requirement already satisfied: nest-asyncio in c:\\users\\rauno\\appdata\\roaming\\python\\python310\\site-packages (from ipykernel>=4.5.1->ipywidgets) (1.5.4)\n",
      "Requirement already satisfied: matplotlib-inline<0.2.0,>=0.1.0 in c:\\users\\rauno\\appdata\\local\\programs\\python\\python310\\lib\\site-packages (from ipykernel>=4.5.1->ipywidgets) (0.1.3)\n",
      "Requirement already satisfied: backcall in c:\\users\\rauno\\appdata\\local\\programs\\python\\python310\\lib\\site-packages (from ipython>=4.0.0->ipywidgets) (0.2.0)\n",
      "Requirement already satisfied: colorama in c:\\users\\rauno\\appdata\\local\\programs\\python\\python310\\lib\\site-packages (from ipython>=4.0.0->ipywidgets) (0.4.4)\n",
      "Requirement already satisfied: stack-data in c:\\users\\rauno\\appdata\\local\\programs\\python\\python310\\lib\\site-packages (from ipython>=4.0.0->ipywidgets) (0.1.4)\n",
      "Requirement already satisfied: prompt-toolkit!=3.0.0,!=3.0.1,<3.1.0,>=2.0.0 in c:\\users\\rauno\\appdata\\local\\programs\\python\\python310\\lib\\site-packages (from ipython>=4.0.0->ipywidgets) (3.0.28)\n",
      "Requirement already satisfied: setuptools>=18.5 in c:\\users\\rauno\\appdata\\local\\programs\\python\\python310\\lib\\site-packages (from ipython>=4.0.0->ipywidgets) (60.8.2)\n",
      "Requirement already satisfied: pickleshare in c:\\users\\rauno\\appdata\\local\\programs\\python\\python310\\lib\\site-packages (from ipython>=4.0.0->ipywidgets) (0.7.5)\n",
      "Requirement already satisfied: pygments in c:\\users\\rauno\\appdata\\local\\programs\\python\\python310\\lib\\site-packages (from ipython>=4.0.0->ipywidgets) (2.11.2)\n",
      "Requirement already satisfied: black in c:\\users\\rauno\\appdata\\local\\programs\\python\\python310\\lib\\site-packages (from ipython>=4.0.0->ipywidgets) (22.1.0)\n",
      "Requirement already satisfied: decorator in c:\\users\\rauno\\appdata\\local\\programs\\python\\python310\\lib\\site-packages (from ipython>=4.0.0->ipywidgets) (5.1.1)\n",
      "Requirement already satisfied: jedi>=0.16 in c:\\users\\rauno\\appdata\\local\\programs\\python\\python310\\lib\\site-packages (from ipython>=4.0.0->ipywidgets) (0.18.1)\n",
      "Requirement already satisfied: pyparsing!=3.0.5,>=2.0.2 in c:\\users\\rauno\\appdata\\local\\programs\\python\\python310\\lib\\site-packages (from packaging>=20.0->transformers) (3.0.7)\n",
      "Requirement already satisfied: notebook>=4.4.1 in c:\\users\\rauno\\appdata\\local\\programs\\python\\python310\\lib\\site-packages (from widgetsnbextension~=3.6.0->ipywidgets) (6.4.8)\n",
      "Requirement already satisfied: python-dateutil>=2.7 in c:\\users\\rauno\\appdata\\local\\programs\\python\\python310\\lib\\site-packages (from matplotlib->powerlaw) (2.8.2)\n",
      "Requirement already satisfied: kiwisolver>=1.0.1 in c:\\users\\rauno\\appdata\\local\\programs\\python\\python310\\lib\\site-packages (from matplotlib->powerlaw) (1.3.2)\n",
      "Requirement already satisfied: cycler>=0.10 in c:\\users\\rauno\\appdata\\local\\programs\\python\\python310\\lib\\site-packages (from matplotlib->powerlaw) (0.11.0)\n",
      "Requirement already satisfied: fonttools>=4.22.0 in c:\\users\\rauno\\appdata\\local\\programs\\python\\python310\\lib\\site-packages (from matplotlib->powerlaw) (4.29.1)\n",
      "Requirement already satisfied: pillow>=6.2.0 in c:\\users\\rauno\\appdata\\local\\programs\\python\\python310\\lib\\site-packages (from matplotlib->powerlaw) (9.0.1)\n",
      "Requirement already satisfied: charset-normalizer~=2.0.0 in c:\\users\\rauno\\appdata\\local\\programs\\python\\python310\\lib\\site-packages (from requests->transformers) (2.0.12)\n",
      "Requirement already satisfied: certifi>=2017.4.17 in c:\\users\\rauno\\appdata\\local\\programs\\python\\python310\\lib\\site-packages (from requests->transformers) (2021.10.8)\n",
      "Requirement already satisfied: idna<4,>=2.5 in c:\\users\\rauno\\appdata\\local\\programs\\python\\python310\\lib\\site-packages (from requests->transformers) (3.3)\n",
      "Requirement already satisfied: urllib3<1.27,>=1.21.1 in c:\\users\\rauno\\appdata\\local\\programs\\python\\python310\\lib\\site-packages (from requests->transformers) (1.26.8)\n",
      "Requirement already satisfied: click in c:\\users\\rauno\\appdata\\local\\programs\\python\\python310\\lib\\site-packages (from sacremoses->transformers) (8.0.3)\n",
      "Requirement already satisfied: six in c:\\users\\rauno\\appdata\\local\\programs\\python\\python310\\lib\\site-packages (from sacremoses->transformers) (1.16.0)\n",
      "Requirement already satisfied: joblib in c:\\users\\rauno\\appdata\\local\\programs\\python\\python310\\lib\\site-packages (from sacremoses->transformers) (1.1.0)\n",
      "Requirement already satisfied: parso<0.9.0,>=0.8.0 in c:\\users\\rauno\\appdata\\local\\programs\\python\\python310\\lib\\site-packages (from jedi>=0.16->ipython>=4.0.0->ipywidgets) (0.8.3)\n",
      "Requirement already satisfied: jupyter-core>=4.6.0 in c:\\users\\rauno\\appdata\\roaming\\python\\python310\\site-packages (from jupyter-client<8.0->ipykernel>=4.5.1->ipywidgets) (4.9.1)\n",
      "Requirement already satisfied: entrypoints in c:\\users\\rauno\\appdata\\roaming\\python\\python310\\site-packages (from jupyter-client<8.0->ipykernel>=4.5.1->ipywidgets) (0.4)\n",
      "Requirement already satisfied: pyzmq>=13 in c:\\users\\rauno\\appdata\\roaming\\python\\python310\\site-packages (from jupyter-client<8.0->ipykernel>=4.5.1->ipywidgets) (22.3.0)\n",
      "Requirement already satisfied: Send2Trash>=1.8.0 in c:\\users\\rauno\\appdata\\local\\programs\\python\\python310\\lib\\site-packages (from notebook>=4.4.1->widgetsnbextension~=3.6.0->ipywidgets) (1.8.0)\n",
      "Requirement already satisfied: terminado>=0.8.3 in c:\\users\\rauno\\appdata\\local\\programs\\python\\python310\\lib\\site-packages (from notebook>=4.4.1->widgetsnbextension~=3.6.0->ipywidgets) (0.13.3)\n",
      "Requirement already satisfied: jinja2 in c:\\users\\rauno\\appdata\\local\\programs\\python\\python310\\lib\\site-packages (from notebook>=4.4.1->widgetsnbextension~=3.6.0->ipywidgets) (3.0.3)\n",
      "Requirement already satisfied: nbconvert in c:\\users\\rauno\\appdata\\local\\programs\\python\\python310\\lib\\site-packages (from notebook>=4.4.1->widgetsnbextension~=3.6.0->ipywidgets) (6.4.4)\n",
      "Requirement already satisfied: argon2-cffi in c:\\users\\rauno\\appdata\\local\\programs\\python\\python310\\lib\\site-packages (from notebook>=4.4.1->widgetsnbextension~=3.6.0->ipywidgets) (21.3.0)\n",
      "Requirement already satisfied: prometheus-client in c:\\users\\rauno\\appdata\\local\\programs\\python\\python310\\lib\\site-packages (from notebook>=4.4.1->widgetsnbextension~=3.6.0->ipywidgets) (0.13.1)\n",
      "Requirement already satisfied: nbformat in c:\\users\\rauno\\appdata\\local\\programs\\python\\python310\\lib\\site-packages (from notebook>=4.4.1->widgetsnbextension~=3.6.0->ipywidgets) (5.2.0)\n",
      "Requirement already satisfied: wcwidth in c:\\users\\rauno\\appdata\\local\\programs\\python\\python310\\lib\\site-packages (from prompt-toolkit!=3.0.0,!=3.0.1,<3.1.0,>=2.0.0->ipython>=4.0.0->ipywidgets) (0.2.5)\n",
      "Requirement already satisfied: tomli>=1.1.0 in c:\\users\\rauno\\appdata\\local\\programs\\python\\python310\\lib\\site-packages (from black->ipython>=4.0.0->ipywidgets) (2.0.1)\n",
      "Requirement already satisfied: platformdirs>=2 in c:\\users\\rauno\\appdata\\local\\programs\\python\\python310\\lib\\site-packages (from black->ipython>=4.0.0->ipywidgets) (2.5.0)\n",
      "Requirement already satisfied: mypy-extensions>=0.4.3 in c:\\users\\rauno\\appdata\\local\\programs\\python\\python310\\lib\\site-packages (from black->ipython>=4.0.0->ipywidgets) (0.4.3)\n",
      "Requirement already satisfied: pathspec>=0.9.0 in c:\\users\\rauno\\appdata\\local\\programs\\python\\python310\\lib\\site-packages (from black->ipython>=4.0.0->ipywidgets) (0.9.0)\n",
      "Requirement already satisfied: pure-eval in c:\\users\\rauno\\appdata\\local\\programs\\python\\python310\\lib\\site-packages (from stack-data->ipython>=4.0.0->ipywidgets) (0.2.2)\n",
      "Requirement already satisfied: asttokens in c:\\users\\rauno\\appdata\\local\\programs\\python\\python310\\lib\\site-packages (from stack-data->ipython>=4.0.0->ipywidgets) (2.0.5)\n",
      "Requirement already satisfied: executing in c:\\users\\rauno\\appdata\\local\\programs\\python\\python310\\lib\\site-packages (from stack-data->ipython>=4.0.0->ipywidgets) (0.8.2)\n",
      "Requirement already satisfied: pywin32>=1.0 in c:\\users\\rauno\\appdata\\roaming\\python\\python310\\site-packages (from jupyter-core>=4.6.0->jupyter-client<8.0->ipykernel>=4.5.1->ipywidgets) (303)\n",
      "Requirement already satisfied: pywinpty>=1.1.0 in c:\\users\\rauno\\appdata\\local\\programs\\python\\python310\\lib\\site-packages (from terminado>=0.8.3->notebook>=4.4.1->widgetsnbextension~=3.6.0->ipywidgets) (1.1.6)\n",
      "Requirement already satisfied: argon2-cffi-bindings in c:\\users\\rauno\\appdata\\local\\programs\\python\\python310\\lib\\site-packages (from argon2-cffi->notebook>=4.4.1->widgetsnbextension~=3.6.0->ipywidgets) (21.2.0)\n",
      "Requirement already satisfied: MarkupSafe>=2.0 in c:\\users\\rauno\\appdata\\local\\programs\\python\\python310\\lib\\site-packages (from jinja2->notebook>=4.4.1->widgetsnbextension~=3.6.0->ipywidgets) (2.1.0)\n",
      "Requirement already satisfied: nbclient<0.6.0,>=0.5.0 in c:\\users\\rauno\\appdata\\local\\programs\\python\\python310\\lib\\site-packages (from nbconvert->notebook>=4.4.1->widgetsnbextension~=3.6.0->ipywidgets) (0.5.13)\n",
      "Requirement already satisfied: beautifulsoup4 in c:\\users\\rauno\\appdata\\local\\programs\\python\\python310\\lib\\site-packages (from nbconvert->notebook>=4.4.1->widgetsnbextension~=3.6.0->ipywidgets) (4.10.0)\n",
      "Requirement already satisfied: pandocfilters>=1.4.1 in c:\\users\\rauno\\appdata\\local\\programs\\python\\python310\\lib\\site-packages (from nbconvert->notebook>=4.4.1->widgetsnbextension~=3.6.0->ipywidgets) (1.5.0)\n",
      "Requirement already satisfied: bleach in c:\\users\\rauno\\appdata\\local\\programs\\python\\python310\\lib\\site-packages (from nbconvert->notebook>=4.4.1->widgetsnbextension~=3.6.0->ipywidgets) (4.1.0)\n",
      "Requirement already satisfied: jupyterlab-pygments in c:\\users\\rauno\\appdata\\local\\programs\\python\\python310\\lib\\site-packages (from nbconvert->notebook>=4.4.1->widgetsnbextension~=3.6.0->ipywidgets) (0.1.2)\n",
      "Requirement already satisfied: testpath in c:\\users\\rauno\\appdata\\local\\programs\\python\\python310\\lib\\site-packages (from nbconvert->notebook>=4.4.1->widgetsnbextension~=3.6.0->ipywidgets) (0.6.0)\n",
      "Requirement already satisfied: defusedxml in c:\\users\\rauno\\appdata\\local\\programs\\python\\python310\\lib\\site-packages (from nbconvert->notebook>=4.4.1->widgetsnbextension~=3.6.0->ipywidgets) (0.7.1)\n",
      "Requirement already satisfied: mistune<2,>=0.8.1 in c:\\users\\rauno\\appdata\\local\\programs\\python\\python310\\lib\\site-packages (from nbconvert->notebook>=4.4.1->widgetsnbextension~=3.6.0->ipywidgets) (0.8.4)\n",
      "Requirement already satisfied: jsonschema!=2.5.0,>=2.4 in c:\\users\\rauno\\appdata\\local\\programs\\python\\python310\\lib\\site-packages (from nbformat->notebook>=4.4.1->widgetsnbextension~=3.6.0->ipywidgets) (4.4.0)\n",
      "Requirement already satisfied: pyrsistent!=0.17.0,!=0.17.1,!=0.17.2,>=0.14.0 in c:\\users\\rauno\\appdata\\local\\programs\\python\\python310\\lib\\site-packages (from jsonschema!=2.5.0,>=2.4->nbformat->notebook>=4.4.1->widgetsnbextension~=3.6.0->ipywidgets) (0.18.1)\n",
      "Requirement already satisfied: attrs>=17.4.0 in c:\\users\\rauno\\appdata\\local\\programs\\python\\python310\\lib\\site-packages (from jsonschema!=2.5.0,>=2.4->nbformat->notebook>=4.4.1->widgetsnbextension~=3.6.0->ipywidgets) (21.4.0)\n",
      "Requirement already satisfied: cffi>=1.0.1 in c:\\users\\rauno\\appdata\\local\\programs\\python\\python310\\lib\\site-packages (from argon2-cffi-bindings->argon2-cffi->notebook>=4.4.1->widgetsnbextension~=3.6.0->ipywidgets) (1.15.0)\n",
      "Requirement already satisfied: soupsieve>1.2 in c:\\users\\rauno\\appdata\\local\\programs\\python\\python310\\lib\\site-packages (from beautifulsoup4->nbconvert->notebook>=4.4.1->widgetsnbextension~=3.6.0->ipywidgets) (2.3.1)\n",
      "Requirement already satisfied: webencodings in c:\\users\\rauno\\appdata\\local\\programs\\python\\python310\\lib\\site-packages (from bleach->nbconvert->notebook>=4.4.1->widgetsnbextension~=3.6.0->ipywidgets) (0.5.1)\n",
      "Requirement already satisfied: pycparser in c:\\users\\rauno\\appdata\\local\\programs\\python\\python310\\lib\\site-packages (from cffi>=1.0.1->argon2-cffi-bindings->argon2-cffi->notebook>=4.4.1->widgetsnbextension~=3.6.0->ipywidgets) (2.21)\n"
     ]
    }
   ],
   "source": [
    "!pip install torch transformers ipywidgets powerlaw"
   ]
  },
  {
   "cell_type": "code",
   "execution_count": 50,
   "metadata": {
    "id": "gR0Y3xlab-sY"
   },
   "outputs": [],
   "source": [
    "# from typing import Literal\n",
    "\n",
    "import numpy as np\n",
    "import torch as t\n",
    "from torch import nn\n",
    "import ipywidgets as widgets\n",
    "from matplotlib import pyplot as plt\n",
    "import powerlaw"
   ]
  },
  {
   "cell_type": "code",
   "execution_count": 51,
   "metadata": {
    "id": "hHXGOV-KcFns"
   },
   "outputs": [],
   "source": [
    "def marchenko_pastur_pdf(x_min: float, x_max: float, Q: float, sigma=1):\n",
    "    y = 1 / Q\n",
    "    x = np.arange(x_min, x_max, 0.001)\n",
    "\n",
    "    b = np.power(sigma * (1 + np.sqrt(1 / Q)), 2) # Largest eigenvalue\n",
    "    a = np.power(sigma * (1 - np.sqrt(1 / Q)), 2) # Smallest eigenvalue\n",
    "    return x, (1 / (2 * np.pi * sigma * sigma * x * y)) * np.sqrt((b - x) * (x - a))\n",
    "\n",
    "# @widgets.interact(x_min=0., x_max=4., Q=(0.5, 20.))\n",
    "def plot_marchenko_pastur_pdf(x_min: float, x_max: float, Q: float, sigma=1):\n",
    "    x, y = marchenko_pastur_pdf(x_min, x_max, Q, sigma)\n",
    "    plt.plot(x, y)"
   ]
  },
  {
   "cell_type": "code",
   "execution_count": 52,
   "metadata": {
    "id": "t-COP-YHcute"
   },
   "outputs": [],
   "source": [
    "def calc_sigma(Q, evs):\n",
    "    lmax = np.max(evs)\n",
    "    inv_sqQ = 1.0/np.sqrt(Q)\n",
    "    sigma_2 = lmax/np.square(1+inv_sqQ)\n",
    "    sigma = np.sqrt(sigma_2)\n",
    "    return sigma"
   ]
  },
  {
   "cell_type": "markdown",
   "metadata": {
    "id": "Qpk2HQV5jgYd"
   },
   "source": [
    "$$\\sigma^{2}=\\lambda_{max}\\left(1+\\dfrac{1}{\\sqrt{Q}}\\right)^{-2}$$"
   ]
  },
  {
   "cell_type": "code",
   "execution_count": 53,
   "metadata": {
    "id": "dcUIylRjei7l"
   },
   "outputs": [],
   "source": [
    "def calc_lambda_plus(Q: float, sigma: float):\n",
    "    return np.power(sigma*(1 + np.sqrt(1/Q)),2)\n",
    "\n",
    "def calc_lambda_minus(Q: float, sigma: float):\n",
    "    return np.power(sigma*(1 - np.sqrt(1/Q)),2)\n",
    "\n",
    "def calc_sigma(Q: float, evs: np.ndarray):\n",
    "    lmax = np.max(evs)\n",
    "    inv_sqQ = 1.0 / np.sqrt(Q)\n",
    "    sigma_2 = lmax / np.square(1 + inv_sqQ)\n",
    "    sigma = np.sqrt(sigma_2)\n",
    "\n",
    "    return sigma\n",
    "\n",
    "def get_Q(W: np.ndarray):\n",
    "    M, N = W.shape\n",
    "\n",
    "    if M > N:\n",
    "        M, N = N, M\n",
    "\n",
    "    return N / M\n",
    "\n",
    "def get_svs_squared(W: np.ndarray, norm=False):\n",
    "    N, M = W.shape\n",
    "    if N < M:\n",
    "        X = np.dot(W,W.transpose())\n",
    "        \n",
    "    else:\n",
    "        X = np.dot(W.transpose(),W)\n",
    "       \n",
    "    # assumes matrix is full rank\n",
    "    if norm:\n",
    "        X = X/np.trace(X)\n",
    "        \n",
    "    return np.linalg.eig(X)[0]\n"
   ]
  },
  {
   "cell_type": "code",
   "execution_count": 54,
   "metadata": {
    "id": "LDSt8bEJg3CB"
   },
   "outputs": [],
   "source": [
    "def plot_ESD_and_fit(rect_matrix: np.ndarray, num_spikes=0, Q=None, sigma=None,\n",
    "                     alpha=0.25, color='blue', skip=False, verbose=True):\n",
    "    \"\"\"Plot histogram of eigenvalues, for Q, and fit Marchenk Pastur.  \n",
    "    If no sigma, calculates from maximum eigenvalue (minus spikes)\n",
    "    Can read keras weights from model if specified.  Does not read PyTorch\"\"\"\n",
    "    eigenvalues = get_svs_squared(rect_matrix)\n",
    "   \n",
    "    if skip:\n",
    "        plt.hist(eigenvalues, bins=100, alpha=alpha, color=color, density=True, label=r'$\\rho_{emp}(\\lambda)$')\n",
    "        return\n",
    "        \n",
    "    # sort, descending order, minus a few max eigenvalues (the spikes)\n",
    "    evals = np.sort(eigenvalues)[::-1][num_spikes:]\n",
    "\n",
    "    if Q is None:\n",
    "        Q = get_Q(rect_matrix)\n",
    "\n",
    "    if sigma is None:\n",
    "        sigma = calc_sigma(Q, evals)\n",
    "        \n",
    "    percent_mass = 100.0 * num_spikes / len(evals)\n",
    "\n",
    "    x_min, x_max =  0, np.max(evals)\n",
    "\n",
    "    xs, ys = marchenko_pastur_pdf(x_min, x_max, Q, sigma)\n",
    "    print(x_min, x_max, Q, sigma, xs)\n",
    "\n",
    "    if verbose:\n",
    "        print(\"% spikes outside bulk {0:.2f}\".format(percent_mass))\n",
    "        print(\"% sigma {0:.4f}\".format(sigma))\n",
    "\n",
    "    fig,ax = plt.subplots()\n",
    "    ax.plot(xs, ys, linewidth=1, color = 'r', label=\"MP fit\")\n",
    "    ax2 = ax.twinx()\n",
    "    ax2.hist(eigenvalues, bins=100, alpha=alpha, color=color, density=True, label=r'$\\rho_{emp}(\\lambda)$')\n",
    "    plt.title(\" ESD, MP Sigma={}\".format( sigma))\n",
    "    return sigma"
   ]
  },
  {
   "cell_type": "code",
   "execution_count": 55,
   "metadata": {
    "id": "oxLsqVBMh6o1"
   },
   "outputs": [],
   "source": [
    "def gen_matrix(N: int, M: int, sigma=1.):\n",
    "    return np.random.normal(size=(N, M), loc=0., scale=sigma**2)"
   ]
  },
  {
   "cell_type": "code",
   "execution_count": 56,
   "metadata": {
    "colab": {
     "base_uri": "https://localhost:8080/",
     "height": 444
    },
    "id": "XKzuettqiUPb",
    "outputId": "d6776911-656b-4b99-c291-0c2b6fb87e73"
   },
   "outputs": [
    {
     "name": "stderr",
     "output_type": "stream",
     "text": [
      "C:\\Users\\rauno\\AppData\\Local\\Temp\\ipykernel_10860\\3277450928.py:7: RuntimeWarning: divide by zero encountered in true_divide\n",
      "  return x, (1 / (2 * np.pi * sigma * sigma * x * y)) * np.sqrt((b - x) * (x - a))\n",
      "C:\\Users\\rauno\\AppData\\Local\\Temp\\ipykernel_10860\\3277450928.py:7: RuntimeWarning: invalid value encountered in sqrt\n",
      "  return x, (1 / (2 * np.pi * sigma * sigma * x * y)) * np.sqrt((b - x) * (x - a))\n"
     ]
    },
    {
     "name": "stdout",
     "output_type": "stream",
     "text": [
      "0 4465.323257115093 4.0 44.54871619107979 [0.000000e+00 1.000000e-03 2.000000e-03 ... 4.465321e+03 4.465322e+03\n",
      " 4.465323e+03]\n",
      "% spikes outside bulk 0.00\n",
      "% sigma 44.5487\n"
     ]
    },
    {
     "data": {
      "image/png": "[encoded data removed]",
      "text/plain": [
       "<Figure size 432x288 with 2 Axes>"
      ]
     },
     "metadata": {
      "needs_background": "light"
     },
     "output_type": "display_data"
    }
   ],
   "source": [
    "test_matrix_1 = gen_matrix(500, 2000)\n",
    "plot_ESD_and_fit(test_matrix_1)\n",
    "plt.show()"
   ]
  },
  {
   "cell_type": "code",
   "execution_count": 57,
   "metadata": {
    "colab": {
     "base_uri": "https://localhost:8080/",
     "height": 265
    },
    "id": "w51T_HG3icxH",
    "outputId": "be0aa271-8d01-476d-aac8-ffc50a6a1a96"
   },
   "outputs": [
    {
     "data": {
      "image/png": "[encoded data removed]",
      "text/plain": [
       "<Figure size 432x288 with 1 Axes>"
      ]
     },
     "metadata": {
      "needs_background": "light"
     },
     "output_type": "display_data"
    }
   ],
   "source": [
    "def scree_plot(matrix: np.ndarray, color='blue',label=''):    \n",
    "    evs = get_svs_squared(matrix)\n",
    "    eigvals = np.flip(np.sort(evs), axis=0)\n",
    "    sing_vals = np.arange(len(eigvals)) + 1\n",
    "    plt.plot(sing_vals, eigvals, color, linewidth=1,label=label)\n",
    "\n",
    "scree_plot(test_matrix_1)"
   ]
  },
  {
   "cell_type": "code",
   "execution_count": 58,
   "metadata": {
    "id": "L7vnYbmztC0O"
   },
   "outputs": [],
   "source": [
    "def get_mu(alpha):\n",
    "    if (alpha >= 2.0 and alpha <= 3.0):\n",
    "        mu = 2.0\n",
    "    elif (alpha < 2.0):\n",
    "        mu = 2.0*(alpha - 1.0)\n",
    "    elif (alpha > 3.0):\n",
    "        mu = alpha - 1.0\n",
    "    return mu\n",
    "\n",
    "def best_dist(fit):\n",
    "    distName = 'power_law'\n",
    "    dist = \"PL\"\n",
    "\n",
    "    R, p = fit.distribution_compare('truncated_power_law', 'power_law', normalized_ratio=True)\n",
    "    if R>0 and p <= 0.05:\n",
    "        distName = 'truncated_power_law'\n",
    "        dist = 'TPL'\n",
    "        \n",
    "    R, p = fit.distribution_compare(distName, 'exponential', normalized_ratio=True)\n",
    "    if R<0 and p <= 0.05:\n",
    "        dist = 'EXP'\n",
    "        return dist\n",
    "\n",
    "    R, p = fit.distribution_compare(distName, 'stretched_exponential', normalized_ratio=True)\n",
    "    if R<0 and p <= 0.05:\n",
    "        dist = 'S_EXP'\n",
    "        return dist\n",
    "        \n",
    "    R, p = fit.distribution_compare(distName, 'lognormal', normalized_ratio=True)\n",
    "    if R<0 and p <= 0.05:\n",
    "        dist = 'LOG_N'\n",
    "        return dist\n",
    "\n",
    "    return dist\n",
    "\n",
    "def fit_powerlaw(evals, verbose=True):\n",
    "    fit = powerlaw.Fit(evals, xmax=np.max(evals))\n",
    "    return [fit.alpha, fit.D, best_dist(fit)]\n",
    "\n",
    "def pareto_pdf(x_min: float, x_max: float, mu=1., scale=1.):\n",
    "    scale = mu\n",
    "\n",
    "    xs = np.arange(x_min  + 0.001, x_max, 0.001)\n",
    "    ys = mu * scale**mu / xs**(mu+1)\n",
    "    return xs, ys \n"
   ]
  },
  {
   "cell_type": "code",
   "execution_count": 59,
   "metadata": {
    "id": "QvAI7t4yuLeR"
   },
   "outputs": [],
   "source": [
    "def fit_and_plot_powerlaw(matrix: np.ndarray, verbose=True):\n",
    "    evals = get_svs_squared(matrix)\n",
    "    fit = powerlaw.Fit(evals, xmax=np.max(evals))\n",
    "    \n",
    "    alpha, D, best_pl = fit.alpha, fit.D, best_dist(fit)\n",
    "    \n",
    "    print(\"alpha {:3g}, D {:3g}, best_pl  {}\".format(alpha, D, best_pl))\n",
    "    \n",
    "    fig2 = fit.plot_pdf(color='b', linewidth=2)\n",
    "    fit.power_law.plot_pdf(color='b', linestyle='--', ax=fig2)\n",
    "    fit.plot_ccdf(color='r', linewidth=2, ax=fig2)\n",
    "    fit.power_law.plot_ccdf(color='r', linestyle='--', ax=fig2)\n",
    "    plt.show()           \n",
    "\n",
    "def fit_and_plot_powerlaw_with_bulk(rect_matrix: np.ndarray, Q=None, sigma=None,\n",
    "                     alpha=0.25, color='blue', skip=False, verbose=True, layer=0, weights='MLP'):\n",
    "    eigenvalues = get_svs_squared(rect_matrix)\n",
    "    evals = np.sort(eigenvalues)[::-1]\n",
    "   \n",
    "    if skip:\n",
    "        bins = np.logspace(np.log10(np.min(evals)), np.log10(np.max(evals)), num=100)\n",
    "        plt.xscale('log')\n",
    "        plt.title('{weights}, Layer={layer}'.format(weights=weights, layer=layer))\n",
    "        plt.xlabel(\"Log Log Histogram\")\n",
    "        plt.ylabel(r\"$\\rho_{emp}(x)$\")\n",
    "        plt.tight_layout()\n",
    "        plt.hist(eigenvalues, bins=bins, log=True, alpha=alpha, color=color, density=True, label=r'$\\rho_{emp}(\\lambda)$')\n",
    "        return\n",
    "        \n",
    "    # sort, descending order, minus a few max eigenvalues (the spikes)\n",
    "\n",
    "    fit = powerlaw.Fit(evals, xmax=np.max(evals))\n",
    "    alpha, D, dist = fit.alpha, fit.D, best_dist(fit)\n",
    "    mu = get_mu(alpha)\n",
    "\n",
    "    scale = 1.\n",
    "\n",
    "    x_min, x_max = 0, np.max(evals)\n",
    "\n",
    "    if dist == \"PL\":\n",
    "        print(mu, scale)\n",
    "        xs, ys = pareto_pdf(x_min, x_max, mu, scale)\n",
    "    else:\n",
    "        raise NotImplementedError(\"Non-PL fit not supported\")\n",
    "\n",
    "    if verbose:\n",
    "        print(\"% mu {0:.4f} scale {0:.4f}\".format(mu, scale))\n",
    "\n",
    "    fig, ax = plt.subplots()\n",
    "    ax.plot(np.log(xs), np.log(ys), linewidth=1, color = 'r', label=\"MP fit\")\n",
    "    ax.set_xscale('log')\n",
    "    ax.set_title('{weights}, Layer={layer}'.format(weights=weights, layer=layer))\n",
    "    ax.set_xlabel(\"Log Log Histogram\")\n",
    "    ax.set_ylabel(r\"$\\rho_{emp}(x)$\")\n",
    "    ax2 = ax.twinx()\n",
    "    bins = np.logspace(np.log10(np.min(evals)), np.log10(np.max(evals)), num=100)\n",
    "    ax2.hist(eigenvalues, log=True, bins=bins, density=True, label=r'$\\rho_{emp}(\\lambda)$')\n",
    "    plt.tight_layout()\n",
    "    fig.show()\n"
   ]
  },
  {
   "cell_type": "code",
   "execution_count": 60,
   "metadata": {
    "id": "kyOq38cMuVwc"
   },
   "outputs": [],
   "source": [
    "# HT_Dist = Literal[\"PL\", \"TPL\", \"EXP\", \"S_EXP\", \"LOG_N\"]\n",
    "\n",
    "def gen_heavy_tail_matrix(N: int, M: int, alpha=6., mu=None, scale=1., sigma=0, mean=1, dist=\"PL\"):\n",
    "    if mu is None:\n",
    "        mu = get_mu(alpha)\n",
    "\n",
    "    if dist == \"PL\":\n",
    "        # return (np.random.pareto(mu, size=(N, M)) + 1) * scale\n",
    "        return np.random.pareto(mu, size=(N, M))\n",
    "\n",
    "    raise NotImplementedError()\n",
    "  \n"
   ]
  },
  {
   "cell_type": "code",
   "execution_count": 61,
   "metadata": {
    "colab": {
     "base_uri": "https://localhost:8080/"
    },
    "id": "qRML2VsewOGg",
    "outputId": "bef847fb-b7b7-454f-f58d-5286a2ea79e4"
   },
   "outputs": [
    {
     "data": {
      "application/vnd.jupyter.widget-view+json": {
       "model_id": "c6e6875e6744477e93d3d639615e4838",
       "version_major": 2,
       "version_minor": 0
      },
      "text/plain": [
       "interactive(children=(IntSlider(value=150, description='N', max=400, min=100), FloatSlider(value=3.0, descript…"
      ]
     },
     "metadata": {},
     "output_type": "display_data"
    }
   ],
   "source": [
    "@widgets.interact(N=(100, 400), Q=(1., 10), mu=(1., 10.), scale=(0.5, 10.))\n",
    "def plot_ht(N=150, Q=3.,  mu=3., scale=1.):\n",
    "    M = int(N * Q)\n",
    "    test_ht_matrix = gen_heavy_tail_matrix(N, M, mu=mu, scale=scale)\n",
    "    fit_and_plot_powerlaw_with_bulk(test_ht_matrix)"
   ]
  },
  {
   "cell_type": "markdown",
   "metadata": {},
   "source": [
    "## Loading the pretrained model"
   ]
  },
  {
   "cell_type": "code",
   "execution_count": 62,
   "metadata": {
    "id": "-MIGE2vzwmla"
   },
   "outputs": [],
   "source": [
    "from transformers import GPT2Tokenizer, GPT2Model\n",
    "import numpy as np\n",
    "import pickle\n",
    "import torch \n",
    "\n",
    "tokenizer = GPT2Tokenizer.from_pretrained('gpt2')\n",
    "model = GPT2Model.from_pretrained('gpt2')\n",
    "attention_weight_matrix = []\n",
    "mlp_weight_matrix = []\n",
    "\n",
    "#this is how you load it again\n",
    "with open(\"attention_weights\", 'rb') as f:\n",
    "    attention_weight_matrix = pickle.load( f)\n",
    "\n",
    "with open(\"mlp_weights\", 'rb') as f:\n",
    "    mlp_weight_matrix = pickle.load( f)\n"
   ]
  },
  {
   "cell_type": "markdown",
   "metadata": {},
   "source": [
    "## Loading the finetuned model"
   ]
  },
  {
   "cell_type": "code",
   "execution_count": 63,
   "metadata": {},
   "outputs": [],
   "source": [
    "attention_weight_matrix_tuned = []\n",
    "mlp_weight_matrix_tuned = []\n",
    "\n",
    "#this is how you load it again\n",
    "with open(\"attention_weights_finetuned_regularised\", 'rb') as f:\n",
    "    attention_weight_matrix_tuned = pickle.load( f)\n",
    "\n",
    "with open(\"mlp_weights_finetuned_regularised\", 'rb') as f:\n",
    "    mlp_weight_matrix_tuned = pickle.load( f)"
   ]
  },
  {
   "cell_type": "code",
   "execution_count": 64,
   "metadata": {},
   "outputs": [
    {
     "name": "stdout",
     "output_type": "stream",
     "text": [
      "[[-0.14395316  0.21767819 -0.08208921 ...  0.06043501 -0.04539399\n",
      "   0.02574013]\n",
      " [ 0.14036295 -0.04340919 -0.07594838 ... -0.2034302   0.11759828\n",
      "  -0.01979583]\n",
      " [-0.08982453 -0.15413415  0.04984421 ... -0.07332741  0.01286126\n",
      "  -0.2021535 ]\n",
      " ...\n",
      " [-0.20589657  0.09467129  0.07535128 ... -0.08554554  0.06847244\n",
      "   0.21709685]\n",
      " [ 0.08677349 -0.09421821  0.11016943 ...  0.01465241 -0.07730445\n",
      "  -0.08263252]\n",
      " [ 0.09057397 -0.11884809  0.00963537 ...  0.02090099  0.15555784\n",
      "   0.00925046]]\n",
      "[[-0.12905343  0.20141321 -0.07151133 ...  0.05635848 -0.04282148\n",
      "   0.02172057]\n",
      " [ 0.12690601 -0.03814285 -0.07544734 ... -0.18635927  0.10274725\n",
      "  -0.01486043]\n",
      " [-0.08203373 -0.14247017  0.03873504 ... -0.0660883   0.01109717\n",
      "  -0.1831256 ]\n",
      " ...\n",
      " [-0.18617056  0.08242235  0.06151374 ... -0.07741423  0.06098053\n",
      "   0.19932215]\n",
      " [ 0.07956938 -0.08252001  0.09789926 ...  0.01536954 -0.07073408\n",
      "  -0.07507422]\n",
      " [ 0.08067252 -0.10623375  0.01396733 ...  0.02094747  0.14486425\n",
      "   0.01083544]]\n"
     ]
    }
   ],
   "source": [
    "print(mlp_weight_matrix[11])\n",
    "print(mlp_weight_matrix_tuned[11])"
   ]
  },
  {
   "cell_type": "markdown",
   "metadata": {},
   "source": [
    "## Comparing non-finetuned weight matrices to finetuned weight matrices"
   ]
  },
  {
   "cell_type": "code",
   "execution_count": 65,
   "metadata": {},
   "outputs": [
    {
     "data": {
      "application/vnd.jupyter.widget-view+json": {
       "model_id": "57aa037c8aba4cc4a3ac65e53fcbb609",
       "version_major": 2,
       "version_minor": 0
      },
      "text/plain": [
       "interactive(children=(IntSlider(value=1, description='layer', max=12, min=1), Output()), _dom_classes=('widget…"
      ]
     },
     "metadata": {},
     "output_type": "display_data"
    }
   ],
   "source": [
    "@widgets.interact(layer=(1, 12))\n",
    "def plot(layer=1):\n",
    "    plot_ESD_and_fit(attention_weight_matrix[layer-1], skip=True)\n",
    "    plot_ESD_and_fit(attention_weight_matrix_tuned[layer-1], skip=True)"
   ]
  },
  {
   "cell_type": "code",
   "execution_count": 66,
   "metadata": {},
   "outputs": [
    {
     "data": {
      "application/vnd.jupyter.widget-view+json": {
       "model_id": "ba72413cdf3048869621e95222d57cc1",
       "version_major": 2,
       "version_minor": 0
      },
      "text/plain": [
       "interactive(children=(IntSlider(value=1, description='layer', max=12, min=1), Output()), _dom_classes=('widget…"
      ]
     },
     "metadata": {},
     "output_type": "display_data"
    }
   ],
   "source": [
    "@widgets.interact(layer=(1, 12))\n",
    "def plot_pl(layer=1):\n",
    "    fit_and_plot_powerlaw(attention_weight_matrix[layer-1])\n",
    "    fit_and_plot_powerlaw(attention_weight_matrix_tuned[layer-1])"
   ]
  },
  {
   "cell_type": "code",
   "execution_count": 67,
   "metadata": {},
   "outputs": [
    {
     "data": {
      "application/vnd.jupyter.widget-view+json": {
       "model_id": "7a8fe41d245f41c997e00e5a0ff79c3c",
       "version_major": 2,
       "version_minor": 0
      },
      "text/plain": [
       "interactive(children=(IntSlider(value=1, description='layer', max=12, min=1), Output()), _dom_classes=('widget…"
      ]
     },
     "metadata": {},
     "output_type": "display_data"
    }
   ],
   "source": [
    "@widgets.interact(layer=(1, 12))\n",
    "def plot_pl_with_bulk(layer=1):\n",
    "    fit_and_plot_powerlaw_with_bulk(attention_weight_matrix[layer-1], skip=True, layer=layer, weights='Attention')"
   ]
  },
  {
   "cell_type": "code",
   "execution_count": 68,
   "metadata": {},
   "outputs": [
    {
     "data": {
      "application/vnd.jupyter.widget-view+json": {
       "model_id": "14b81d3a0aba4025a20d0b51e6a3911e",
       "version_major": 2,
       "version_minor": 0
      },
      "text/plain": [
       "interactive(children=(IntSlider(value=1, description='layer', max=12, min=1), Output()), _dom_classes=('widget…"
      ]
     },
     "metadata": {},
     "output_type": "display_data"
    }
   ],
   "source": [
    "@widgets.interact(layer=(1, 12))\n",
    "def plot_pl_with_bulk(layer=1):\n",
    "    fit_and_plot_powerlaw_with_bulk(attention_weight_matrix_tuned[layer-1], color='red', skip=True, layer=layer, weights='Attention finetuned')"
   ]
  },
  {
   "cell_type": "code",
   "execution_count": 69,
   "metadata": {},
   "outputs": [
    {
     "data": {
      "application/vnd.jupyter.widget-view+json": {
       "model_id": "4daeb55d4c064804ab8cd58877eea240",
       "version_major": 2,
       "version_minor": 0
      },
      "text/plain": [
       "interactive(children=(IntSlider(value=1, description='layer', max=12, min=1), Output()), _dom_classes=('widget…"
      ]
     },
     "metadata": {},
     "output_type": "display_data"
    }
   ],
   "source": [
    "@widgets.interact(layer=(1, 12))\n",
    "def plot_mlp_pl(layer=1):\n",
    "    fit_and_plot_powerlaw_with_bulk(attention_weight_matrix[layer-1], skip=True, layer=layer, weights='MLP')"
   ]
  },
  {
   "cell_type": "code",
   "execution_count": 70,
   "metadata": {},
   "outputs": [
    {
     "data": {
      "application/vnd.jupyter.widget-view+json": {
       "model_id": "a4704a058d604ad7ba057386be0fff7d",
       "version_major": 2,
       "version_minor": 0
      },
      "text/plain": [
       "interactive(children=(IntSlider(value=1, description='layer', max=12, min=1), Output()), _dom_classes=('widget…"
      ]
     },
     "metadata": {},
     "output_type": "display_data"
    }
   ],
   "source": [
    "@widgets.interact(layer=(1, 12))\n",
    "def plot_mlp_pl(layer=1):\n",
    "    fit_and_plot_powerlaw_with_bulk(mlp_weight_matrix_tuned[layer-1], color='red', skip=True, layer=layer, weights='MLP finetuned')"
   ]
  },
  {
   "cell_type": "markdown",
   "metadata": {},
   "source": [
    "## Comparing attention weight matrices to MLP weight matrices"
   ]
  },
  {
   "cell_type": "code",
   "execution_count": 71,
   "metadata": {},
   "outputs": [
    {
     "data": {
      "application/vnd.jupyter.widget-view+json": {
       "model_id": "456af542ec5142469af54cc9cdddd69a",
       "version_major": 2,
       "version_minor": 0
      },
      "text/plain": [
       "interactive(children=(IntSlider(value=1, description='layer', max=12, min=1), Output()), _dom_classes=('widget…"
      ]
     },
     "metadata": {},
     "output_type": "display_data"
    }
   ],
   "source": [
    "@widgets.interact(layer=(1, 12))\n",
    "def plot_pl(layer=1):\n",
    "    fit_and_plot_powerlaw_with_bulk(attention_weight_matrix[layer-1], skip=True, layer=layer, weights='Attention')"
   ]
  },
  {
   "cell_type": "code",
   "execution_count": 72,
   "metadata": {},
   "outputs": [
    {
     "data": {
      "application/vnd.jupyter.widget-view+json": {
       "model_id": "b84d08738de143b6b59eb82c5097ae1c",
       "version_major": 2,
       "version_minor": 0
      },
      "text/plain": [
       "interactive(children=(IntSlider(value=1, description='layer', max=12, min=1), Output()), _dom_classes=('widget…"
      ]
     },
     "metadata": {},
     "output_type": "display_data"
    }
   ],
   "source": [
    "@widgets.interact(layer=(1, 12))\n",
    "def plot_pl(layer=1):\n",
    "    fit_and_plot_powerlaw_with_bulk(mlp_weight_matrix[layer-1], color='red', skip=True, layer=layer, weights='MLP')"
   ]
  },
  {
   "cell_type": "code",
   "execution_count": 73,
   "metadata": {},
   "outputs": [
    {
     "data": {
      "application/vnd.jupyter.widget-view+json": {
       "model_id": "59c5eed64a4f4343b0c1a83f06c894ac",
       "version_major": 2,
       "version_minor": 0
      },
      "text/plain": [
       "interactive(children=(IntSlider(value=1, description='layer', max=12, min=1), Output()), _dom_classes=('widget…"
      ]
     },
     "metadata": {},
     "output_type": "display_data"
    }
   ],
   "source": [
    "@widgets.interact(layer=(1, 12))\n",
    "def plot_mlp_pl(layer=1):\n",
    "    fit_and_plot_powerlaw_with_bulk(attention_weight_matrix_tuned[layer-1], color='red', skip=True, layer=layer, weights='Attention')"
   ]
  },
  {
   "cell_type": "code",
   "execution_count": 74,
   "metadata": {},
   "outputs": [
    {
     "data": {
      "application/vnd.jupyter.widget-view+json": {
       "model_id": "6e14062018964874962314209b658b63",
       "version_major": 2,
       "version_minor": 0
      },
      "text/plain": [
       "interactive(children=(IntSlider(value=1, description='layer', max=12, min=1), Output()), _dom_classes=('widget…"
      ]
     },
     "metadata": {},
     "output_type": "display_data"
    }
   ],
   "source": [
    "@widgets.interact(layer=(1, 12))\n",
    "def plot_mlp_pl(layer=1):\n",
    "    fit_and_plot_powerlaw_with_bulk(mlp_weight_matrix_tuned[layer-1], color='red', skip=True, layer=layer, weights='MLP')"
   ]
  },
  {
   "cell_type": "code",
   "execution_count": 75,
   "metadata": {},
   "outputs": [],
   "source": [
    "from transformers import GPT2Tokenizer, GPT2Model\n",
    "import numpy as np\n",
    "import pickle\n",
    "import torch \n",
    "\n",
    "tokenizer = GPT2Tokenizer.from_pretrained('gpt2')\n",
    "model = GPT2Model.from_pretrained('gpt2')\n",
    "attention_weight_matrix_large = []\n",
    "mlp_weight_matrix_large = []\n",
    "\n",
    "#this is how you load it again\n",
    "with open(\"attention_weights_gpt2large\", 'rb') as f:\n",
    "    attention_weight_matrix_large = pickle.load( f)\n",
    "\n",
    "with open(\"mlp_weights_gpt2large\", 'rb') as f:\n",
    "    mlp_weight_matrix_large = pickle.load( f)"
   ]
  },
  {
   "cell_type": "markdown",
   "metadata": {},
   "source": [
    "## Comparing GPT-2 small's weight matrices to GPT-2 large's weight matrices"
   ]
  },
  {
   "cell_type": "code",
   "execution_count": 76,
   "metadata": {},
   "outputs": [
    {
     "data": {
      "application/vnd.jupyter.widget-view+json": {
       "model_id": "9549520d067a4243af21cd54108ab57d",
       "version_major": 2,
       "version_minor": 0
      },
      "text/plain": [
       "interactive(children=(IntSlider(value=1, description='layer', max=12, min=1), Output()), _dom_classes=('widget…"
      ]
     },
     "metadata": {},
     "output_type": "display_data"
    }
   ],
   "source": [
    "@widgets.interact(layer=(1, 12))\n",
    "def plot_mlp_pl(layer=1):\n",
    "    fit_and_plot_powerlaw_with_bulk(attention_weight_matrix[layer-1], skip=True, layer=layer, weights='GPT-2 small, attention weights')"
   ]
  },
  {
   "cell_type": "code",
   "execution_count": 77,
   "metadata": {},
   "outputs": [
    {
     "data": {
      "application/vnd.jupyter.widget-view+json": {
       "model_id": "590007e0ea58432b920551ef90e9a702",
       "version_major": 2,
       "version_minor": 0
      },
      "text/plain": [
       "interactive(children=(IntSlider(value=1, description='layer', max=36, min=1), Output()), _dom_classes=('widget…"
      ]
     },
     "metadata": {},
     "output_type": "display_data"
    }
   ],
   "source": [
    "@widgets.interact(layer=(1, 36))\n",
    "def plot_mlp_pl(layer=1):\n",
    "    fit_and_plot_powerlaw_with_bulk(attention_weight_matrix_large[layer-1], color='red', skip=True, layer=layer, weights='GPT-2 large, attention weights')"
   ]
  },
  {
   "cell_type": "code",
   "execution_count": 78,
   "metadata": {},
   "outputs": [
    {
     "data": {
      "application/vnd.jupyter.widget-view+json": {
       "model_id": "e291939f97144e14bc94162e347038c7",
       "version_major": 2,
       "version_minor": 0
      },
      "text/plain": [
       "interactive(children=(IntSlider(value=1, description='layer', max=12, min=1), Output()), _dom_classes=('widget…"
      ]
     },
     "metadata": {},
     "output_type": "display_data"
    }
   ],
   "source": [
    "@widgets.interact(layer=(1, 12))\n",
    "def plot_mlp_pl(layer=1):\n",
    "    fit_and_plot_powerlaw_with_bulk(mlp_weight_matrix[layer-1], skip=True, layer=layer, weights='GPT-2 small, MLP weights')"
   ]
  },
  {
   "cell_type": "code",
   "execution_count": 79,
   "metadata": {},
   "outputs": [
    {
     "data": {
      "application/vnd.jupyter.widget-view+json": {
       "model_id": "e6d6ad6350e245eda86f77e5662ca034",
       "version_major": 2,
       "version_minor": 0
      },
      "text/plain": [
       "interactive(children=(IntSlider(value=1, description='layer', max=36, min=1), Output()), _dom_classes=('widget…"
      ]
     },
     "metadata": {},
     "output_type": "display_data"
    }
   ],
   "source": [
    "@widgets.interact(layer=(1, 36))\n",
    "def plot_mlp_pl(layer=1):\n",
    "    fit_and_plot_powerlaw_with_bulk(mlp_weight_matrix_large[layer-1], color='red', skip=True, layer=layer, weights='GPT-2 large, MLP weights')"
   ]
  },
  {
   "cell_type": "code",
   "execution_count": null,
   "metadata": {},
   "outputs": [],
   "source": []
  }
 ],
 "metadata": {
  "accelerator": "GPU",
  "colab": {
   "collapsed_sections": [],
   "include_colab_link": true,
   "provenance": []
  },
  "gpuClass": "premium",
  "kernelspec": {
   "display_name": "Python 3 (ipykernel)",
   "language": "python",
   "name": "python3"
  },
  "language_info": {
   "codemirror_mode": {
    "name": "ipython",
    "version": 3
   },
   "file_extension": ".py",
   "mimetype": "text/x-python",
   "name": "python",
   "nbconvert_exporter": "python",
   "pygments_lexer": "ipython3",
   "version": "3.10.2"
  },
  "vscode": {
   "interpreter": {
    "hash": "8e19e98c1663512e4ab445fbd0ba1d11a615d7c9869472ffe0065bf2036c088a"
   }
  }
 },
 "nbformat": 4,
 "nbformat_minor": 1
}
