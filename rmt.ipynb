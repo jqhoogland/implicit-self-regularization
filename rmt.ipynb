{
  "nbformat": 4,
  "nbformat_minor": 0,
  "metadata": {
    "colab": {
      "provenance": [],
      "collapsed_sections": [],
      "include_colab_link": true
    },
    "kernelspec": {
      "name": "python3",
      "display_name": "Python 3"
    },
    "language_info": {
      "name": "python"
    },
    "accelerator": "GPU",
    "gpuClass": "premium"
  },
  "cells": [
    {
      "cell_type": "markdown",
      "metadata": {
        "id": "view-in-github",
        "colab_type": "text"
      },
      "source": [
        "<a href=\"https://colab.research.google.com/github/jqhoogland/implicit-self-regularization/blob/master/rmt.ipynb\" target=\"_parent\"><img src=\"https://colab.research.google.com/assets/colab-badge.svg\" alt=\"Open In Colab\"/></a>"
      ]
    },
    {
      "cell_type": "code",
      "execution_count": 1,
      "metadata": {
        "colab": {
          "base_uri": "https://localhost:8080/"
        },
        "id": "SSHiPqJFbecs",
        "outputId": "efbff818-f80b-422f-eabf-073d67e0bbc4"
      },
      "outputs": [
        {
          "output_type": "stream",
          "name": "stdout",
          "text": [
            "Looking in indexes: https://pypi.org/simple, https://us-python.pkg.dev/colab-wheels/public/simple/\n",
            "Requirement already satisfied: torch in /usr/local/lib/python3.7/dist-packages (1.12.1+cu113)\n",
            "Collecting transformers\n",
            "  Downloading transformers-4.24.0-py3-none-any.whl (5.5 MB)\n",
            "\u001b[K     |████████████████████████████████| 5.5 MB 7.6 MB/s \n",
            "\u001b[?25hRequirement already satisfied: ipywidgets in /usr/local/lib/python3.7/dist-packages (7.7.1)\n",
            "Collecting powerlaw\n",
            "  Downloading powerlaw-1.5-py3-none-any.whl (24 kB)\n",
            "Requirement already satisfied: typing-extensions in /usr/local/lib/python3.7/dist-packages (from torch) (4.1.1)\n",
            "Requirement already satisfied: pyyaml>=5.1 in /usr/local/lib/python3.7/dist-packages (from transformers) (6.0)\n",
            "Requirement already satisfied: tqdm>=4.27 in /usr/local/lib/python3.7/dist-packages (from transformers) (4.64.1)\n",
            "Requirement already satisfied: regex!=2019.12.17 in /usr/local/lib/python3.7/dist-packages (from transformers) (2022.6.2)\n",
            "Collecting huggingface-hub<1.0,>=0.10.0\n",
            "  Downloading huggingface_hub-0.10.1-py3-none-any.whl (163 kB)\n",
            "\u001b[K     |████████████████████████████████| 163 kB 78.7 MB/s \n",
            "\u001b[?25hCollecting tokenizers!=0.11.3,<0.14,>=0.11.1\n",
            "  Downloading tokenizers-0.13.2-cp37-cp37m-manylinux_2_17_x86_64.manylinux2014_x86_64.whl (7.6 MB)\n",
            "\u001b[K     |████████████████████████████████| 7.6 MB 74.0 MB/s \n",
            "\u001b[?25hRequirement already satisfied: importlib-metadata in /usr/local/lib/python3.7/dist-packages (from transformers) (4.13.0)\n",
            "Requirement already satisfied: packaging>=20.0 in /usr/local/lib/python3.7/dist-packages (from transformers) (21.3)\n",
            "Requirement already satisfied: numpy>=1.17 in /usr/local/lib/python3.7/dist-packages (from transformers) (1.21.6)\n",
            "Requirement already satisfied: filelock in /usr/local/lib/python3.7/dist-packages (from transformers) (3.8.0)\n",
            "Requirement already satisfied: requests in /usr/local/lib/python3.7/dist-packages (from transformers) (2.23.0)\n",
            "Requirement already satisfied: pyparsing!=3.0.5,>=2.0.2 in /usr/local/lib/python3.7/dist-packages (from packaging>=20.0->transformers) (3.0.9)\n",
            "Requirement already satisfied: jupyterlab-widgets>=1.0.0 in /usr/local/lib/python3.7/dist-packages (from ipywidgets) (3.0.3)\n",
            "Requirement already satisfied: widgetsnbextension~=3.6.0 in /usr/local/lib/python3.7/dist-packages (from ipywidgets) (3.6.1)\n",
            "Requirement already satisfied: ipython-genutils~=0.2.0 in /usr/local/lib/python3.7/dist-packages (from ipywidgets) (0.2.0)\n",
            "Requirement already satisfied: ipython>=4.0.0 in /usr/local/lib/python3.7/dist-packages (from ipywidgets) (7.9.0)\n",
            "Requirement already satisfied: traitlets>=4.3.1 in /usr/local/lib/python3.7/dist-packages (from ipywidgets) (5.1.1)\n",
            "Requirement already satisfied: ipykernel>=4.5.1 in /usr/local/lib/python3.7/dist-packages (from ipywidgets) (5.3.4)\n",
            "Requirement already satisfied: tornado>=4.2 in /usr/local/lib/python3.7/dist-packages (from ipykernel>=4.5.1->ipywidgets) (6.0.4)\n",
            "Requirement already satisfied: jupyter-client in /usr/local/lib/python3.7/dist-packages (from ipykernel>=4.5.1->ipywidgets) (6.1.12)\n",
            "Requirement already satisfied: pickleshare in /usr/local/lib/python3.7/dist-packages (from ipython>=4.0.0->ipywidgets) (0.7.5)\n",
            "Collecting jedi>=0.10\n",
            "  Downloading jedi-0.18.1-py2.py3-none-any.whl (1.6 MB)\n",
            "\u001b[K     |████████████████████████████████| 1.6 MB 61.1 MB/s \n",
            "\u001b[?25hRequirement already satisfied: pexpect in /usr/local/lib/python3.7/dist-packages (from ipython>=4.0.0->ipywidgets) (4.8.0)\n",
            "Requirement already satisfied: backcall in /usr/local/lib/python3.7/dist-packages (from ipython>=4.0.0->ipywidgets) (0.2.0)\n",
            "Requirement already satisfied: prompt-toolkit<2.1.0,>=2.0.0 in /usr/local/lib/python3.7/dist-packages (from ipython>=4.0.0->ipywidgets) (2.0.10)\n",
            "Requirement already satisfied: pygments in /usr/local/lib/python3.7/dist-packages (from ipython>=4.0.0->ipywidgets) (2.6.1)\n",
            "Requirement already satisfied: setuptools>=18.5 in /usr/local/lib/python3.7/dist-packages (from ipython>=4.0.0->ipywidgets) (57.4.0)\n",
            "Requirement already satisfied: decorator in /usr/local/lib/python3.7/dist-packages (from ipython>=4.0.0->ipywidgets) (4.4.2)\n",
            "Requirement already satisfied: parso<0.9.0,>=0.8.0 in /usr/local/lib/python3.7/dist-packages (from jedi>=0.10->ipython>=4.0.0->ipywidgets) (0.8.3)\n",
            "Requirement already satisfied: wcwidth in /usr/local/lib/python3.7/dist-packages (from prompt-toolkit<2.1.0,>=2.0.0->ipython>=4.0.0->ipywidgets) (0.2.5)\n",
            "Requirement already satisfied: six>=1.9.0 in /usr/local/lib/python3.7/dist-packages (from prompt-toolkit<2.1.0,>=2.0.0->ipython>=4.0.0->ipywidgets) (1.15.0)\n",
            "Requirement already satisfied: notebook>=4.4.1 in /usr/local/lib/python3.7/dist-packages (from widgetsnbextension~=3.6.0->ipywidgets) (5.7.16)\n",
            "Requirement already satisfied: pyzmq>=17 in /usr/local/lib/python3.7/dist-packages (from notebook>=4.4.1->widgetsnbextension~=3.6.0->ipywidgets) (23.2.1)\n",
            "Requirement already satisfied: terminado>=0.8.1 in /usr/local/lib/python3.7/dist-packages (from notebook>=4.4.1->widgetsnbextension~=3.6.0->ipywidgets) (0.13.3)\n",
            "Requirement already satisfied: jupyter-core>=4.4.0 in /usr/local/lib/python3.7/dist-packages (from notebook>=4.4.1->widgetsnbextension~=3.6.0->ipywidgets) (4.11.2)\n",
            "Requirement already satisfied: prometheus-client in /usr/local/lib/python3.7/dist-packages (from notebook>=4.4.1->widgetsnbextension~=3.6.0->ipywidgets) (0.15.0)\n",
            "Requirement already satisfied: Send2Trash in /usr/local/lib/python3.7/dist-packages (from notebook>=4.4.1->widgetsnbextension~=3.6.0->ipywidgets) (1.8.0)\n",
            "Requirement already satisfied: jinja2<=3.0.0 in /usr/local/lib/python3.7/dist-packages (from notebook>=4.4.1->widgetsnbextension~=3.6.0->ipywidgets) (2.11.3)\n",
            "Requirement already satisfied: nbconvert<6.0 in /usr/local/lib/python3.7/dist-packages (from notebook>=4.4.1->widgetsnbextension~=3.6.0->ipywidgets) (5.6.1)\n",
            "Requirement already satisfied: nbformat in /usr/local/lib/python3.7/dist-packages (from notebook>=4.4.1->widgetsnbextension~=3.6.0->ipywidgets) (5.7.0)\n",
            "Requirement already satisfied: MarkupSafe>=0.23 in /usr/local/lib/python3.7/dist-packages (from jinja2<=3.0.0->notebook>=4.4.1->widgetsnbextension~=3.6.0->ipywidgets) (2.0.1)\n",
            "Requirement already satisfied: python-dateutil>=2.1 in /usr/local/lib/python3.7/dist-packages (from jupyter-client->ipykernel>=4.5.1->ipywidgets) (2.8.2)\n",
            "Requirement already satisfied: testpath in /usr/local/lib/python3.7/dist-packages (from nbconvert<6.0->notebook>=4.4.1->widgetsnbextension~=3.6.0->ipywidgets) (0.6.0)\n",
            "Requirement already satisfied: defusedxml in /usr/local/lib/python3.7/dist-packages (from nbconvert<6.0->notebook>=4.4.1->widgetsnbextension~=3.6.0->ipywidgets) (0.7.1)\n",
            "Requirement already satisfied: bleach in /usr/local/lib/python3.7/dist-packages (from nbconvert<6.0->notebook>=4.4.1->widgetsnbextension~=3.6.0->ipywidgets) (5.0.1)\n",
            "Requirement already satisfied: entrypoints>=0.2.2 in /usr/local/lib/python3.7/dist-packages (from nbconvert<6.0->notebook>=4.4.1->widgetsnbextension~=3.6.0->ipywidgets) (0.4)\n",
            "Requirement already satisfied: mistune<2,>=0.8.1 in /usr/local/lib/python3.7/dist-packages (from nbconvert<6.0->notebook>=4.4.1->widgetsnbextension~=3.6.0->ipywidgets) (0.8.4)\n",
            "Requirement already satisfied: pandocfilters>=1.4.1 in /usr/local/lib/python3.7/dist-packages (from nbconvert<6.0->notebook>=4.4.1->widgetsnbextension~=3.6.0->ipywidgets) (1.5.0)\n",
            "Requirement already satisfied: jsonschema>=2.6 in /usr/local/lib/python3.7/dist-packages (from nbformat->notebook>=4.4.1->widgetsnbextension~=3.6.0->ipywidgets) (4.3.3)\n",
            "Requirement already satisfied: fastjsonschema in /usr/local/lib/python3.7/dist-packages (from nbformat->notebook>=4.4.1->widgetsnbextension~=3.6.0->ipywidgets) (2.16.2)\n",
            "Requirement already satisfied: zipp>=0.5 in /usr/local/lib/python3.7/dist-packages (from importlib-metadata->transformers) (3.10.0)\n",
            "Requirement already satisfied: pyrsistent!=0.17.0,!=0.17.1,!=0.17.2,>=0.14.0 in /usr/local/lib/python3.7/dist-packages (from jsonschema>=2.6->nbformat->notebook>=4.4.1->widgetsnbextension~=3.6.0->ipywidgets) (0.19.2)\n",
            "Requirement already satisfied: attrs>=17.4.0 in /usr/local/lib/python3.7/dist-packages (from jsonschema>=2.6->nbformat->notebook>=4.4.1->widgetsnbextension~=3.6.0->ipywidgets) (22.1.0)\n",
            "Requirement already satisfied: importlib-resources>=1.4.0 in /usr/local/lib/python3.7/dist-packages (from jsonschema>=2.6->nbformat->notebook>=4.4.1->widgetsnbextension~=3.6.0->ipywidgets) (5.10.0)\n",
            "Requirement already satisfied: ptyprocess in /usr/local/lib/python3.7/dist-packages (from terminado>=0.8.1->notebook>=4.4.1->widgetsnbextension~=3.6.0->ipywidgets) (0.7.0)\n",
            "Requirement already satisfied: scipy in /usr/local/lib/python3.7/dist-packages (from powerlaw) (1.7.3)\n",
            "Requirement already satisfied: matplotlib in /usr/local/lib/python3.7/dist-packages (from powerlaw) (3.2.2)\n",
            "Requirement already satisfied: mpmath in /usr/local/lib/python3.7/dist-packages (from powerlaw) (1.2.1)\n",
            "Requirement already satisfied: webencodings in /usr/local/lib/python3.7/dist-packages (from bleach->nbconvert<6.0->notebook>=4.4.1->widgetsnbextension~=3.6.0->ipywidgets) (0.5.1)\n",
            "Requirement already satisfied: kiwisolver>=1.0.1 in /usr/local/lib/python3.7/dist-packages (from matplotlib->powerlaw) (1.4.4)\n",
            "Requirement already satisfied: cycler>=0.10 in /usr/local/lib/python3.7/dist-packages (from matplotlib->powerlaw) (0.11.0)\n",
            "Requirement already satisfied: idna<3,>=2.5 in /usr/local/lib/python3.7/dist-packages (from requests->transformers) (2.10)\n",
            "Requirement already satisfied: chardet<4,>=3.0.2 in /usr/local/lib/python3.7/dist-packages (from requests->transformers) (3.0.4)\n",
            "Requirement already satisfied: certifi>=2017.4.17 in /usr/local/lib/python3.7/dist-packages (from requests->transformers) (2022.9.24)\n",
            "Requirement already satisfied: urllib3!=1.25.0,!=1.25.1,<1.26,>=1.21.1 in /usr/local/lib/python3.7/dist-packages (from requests->transformers) (1.24.3)\n",
            "Installing collected packages: jedi, tokenizers, huggingface-hub, transformers, powerlaw\n",
            "Successfully installed huggingface-hub-0.10.1 jedi-0.18.1 powerlaw-1.5 tokenizers-0.13.2 transformers-4.24.0\n"
          ]
        }
      ],
      "source": [
        "!pip install torch transformers ipywidgets powerlaw"
      ]
    },
    {
      "cell_type": "code",
      "source": [
        "# from typing import Literal\n",
        "\n",
        "import numpy as np\n",
        "import torch as t\n",
        "from torch import nn\n",
        "import ipywidgets as widgets\n",
        "from matplotlib import pyplot as plt\n",
        "import powerlaw"
      ],
      "metadata": {
        "id": "gR0Y3xlab-sY"
      },
      "execution_count": 2,
      "outputs": []
    },
    {
      "cell_type": "code",
      "source": [
        "def marchenko_pastur_pdf(x_min: float, x_max: float, Q: float, sigma=1):\n",
        "    y = 1 / Q\n",
        "    x = np.arange(x_min, x_max, 0.001)\n",
        "\n",
        "    b = np.power(sigma * (1 + np.sqrt(1 / Q)), 2) # Largest eigenvalue\n",
        "    a = np.power(sigma * (1 - np.sqrt(1 / Q)), 2) # Smallest eigenvalue\n",
        "    return x, (1 / (2 * np.pi * sigma * sigma * x * y)) * np.sqrt((b - x) * (x - a))\n",
        "\n",
        "# @widgets.interact(x_min=0., x_max=4., Q=(0.5, 20.))\n",
        "def plot_marchenko_pastur_pdf(x_min: float, x_max: float, Q: float, sigma=1):\n",
        "    x, y = marchenko_pastur_pdf(x_min, x_max, Q, sigma)\n",
        "    plt.plot(x, y)"
      ],
      "metadata": {
        "id": "hHXGOV-KcFns"
      },
      "execution_count": 3,
      "outputs": []
    },
    {
      "cell_type": "code",
      "source": [
        "def calc_sigma(Q, evs):\n",
        "    lmax = np.max(evs)\n",
        "    inv_sqQ = 1.0/np.sqrt(Q)\n",
        "    sigma_2 = lmax/np.square(1+inv_sqQ)\n",
        "    sigma = np.sqrt(sigma_2)\n",
        "    return sigma"
      ],
      "metadata": {
        "id": "t-COP-YHcute"
      },
      "execution_count": 4,
      "outputs": []
    },
    {
      "cell_type": "markdown",
      "source": [
        "$$\\sigma^{2}=\\lambda_{max}\\left(1+\\dfrac{1}{\\sqrt{Q}}\\right)^{-2}$$"
      ],
      "metadata": {
        "id": "Qpk2HQV5jgYd"
      }
    },
    {
      "cell_type": "code",
      "source": [
        "def calc_lambda_plus(Q: float, sigma: float):\n",
        "    return np.power(sigma*(1 + np.sqrt(1/Q)),2)\n",
        "\n",
        "def calc_lambda_minus(Q: float, sigma: float):\n",
        "    return np.power(sigma*(1 - np.sqrt(1/Q)),2)\n",
        "\n",
        "def calc_sigma(Q: float, evs: np.ndarray):\n",
        "    lmax = np.max(evs)\n",
        "    inv_sqQ = 1.0 / np.sqrt(Q)\n",
        "    sigma_2 = lmax / np.square(1 + inv_sqQ)\n",
        "    sigma = np.sqrt(sigma_2)\n",
        "\n",
        "    return sigma\n",
        "\n",
        "def get_Q(W: np.ndarray):\n",
        "    M, N = W.shape\n",
        "\n",
        "    if M > N:\n",
        "        M, N = N, M\n",
        "\n",
        "    return N / M\n",
        "\n",
        "def get_svs_squared(rect_matrix: np.ndarray):\n",
        "    _, svs, _ = np.linalg.svd(rect_matrix)\n",
        "\n",
        "    return svs * svs\n"
      ],
      "metadata": {
        "id": "dcUIylRjei7l"
      },
      "execution_count": 5,
      "outputs": []
    },
    {
      "cell_type": "code",
      "source": [
        "def plot_ESD_and_fit(rect_matrix: np.ndarray, num_spikes=0, Q=None, sigma=None,\n",
        "                     alpha=0.25, color='blue', skip=False, verbose=True):\n",
        "    \"\"\"Plot histogram of eigenvalues, for Q, and fit Marchenk Pastur.  \n",
        "    If no sigma, calculates from maximum eigenvalue (minus spikes)\n",
        "    Can read keras weights from model if specified.  Does not read PyTorch\"\"\"\n",
        "    eigenvalues = get_svs_squared(rect_matrix)\n",
        "   \n",
        "    if skip:\n",
        "        plt.hist(eigenvalues, bins=100, alpha=alpha, color=color, density=True, label=r'$\\rho_{emp}(\\lambda)$')\n",
        "        return\n",
        "        \n",
        "    # sort, descending order, minus a few max eigenvalues (the spikes)\n",
        "    evals = np.sort(eigenvalues)[::-1][num_spikes:]\n",
        "\n",
        "    if Q is None:\n",
        "        Q = get_Q(rect_matrix)\n",
        "\n",
        "    if sigma is None:\n",
        "        sigma = calc_sigma(Q, evals)\n",
        "        \n",
        "    percent_mass = 100.0 * num_spikes / len(evals)\n",
        "\n",
        "    x_min, x_max =  0, np.max(evals)\n",
        "\n",
        "    xs, ys = marchenko_pastur_pdf(x_min, x_max, Q, sigma)\n",
        "    print(x_min, x_max, Q, sigma, xs)\n",
        "\n",
        "    if verbose:\n",
        "        print(\"% spikes outside bulk {0:.2f}\".format(percent_mass))\n",
        "        print(\"% sigma {0:.4f}\".format(sigma))\n",
        "\n",
        "    fig,ax = plt.subplots()\n",
        "    ax.plot(xs, ys, linewidth=1, color = 'r', label=\"MP fit\")\n",
        "    ax2 = ax.twinx()\n",
        "    ax2.hist(eigenvalues, bins=100, alpha=alpha, color=color, density=True, label=r'$\\rho_{emp}(\\lambda)$')\n",
        "    plt.title(\" ESD, MP Sigma={}\".format( sigma))\n",
        "    return sigma"
      ],
      "metadata": {
        "id": "LDSt8bEJg3CB"
      },
      "execution_count": 6,
      "outputs": []
    },
    {
      "cell_type": "code",
      "source": [
        "def gen_matrix(N: int, M: int, sigma=1.):\n",
        "    return np.random.normal(size=(N, M), loc=0., scale=sigma**2)"
      ],
      "metadata": {
        "id": "oxLsqVBMh6o1"
      },
      "execution_count": 7,
      "outputs": []
    },
    {
      "cell_type": "code",
      "source": [
        "test_matrix_1 = gen_matrix(500, 2000)\n",
        "plot_ESD_and_fit(test_matrix_1)\n",
        "plt.show()"
      ],
      "metadata": {
        "colab": {
          "base_uri": "https://localhost:8080/",
          "height": 444
        },
        "id": "XKzuettqiUPb",
        "outputId": "06ad3166-a938-46ec-d885-da6bc59842d9"
      },
      "execution_count": 8,
      "outputs": [
        {
          "output_type": "stream",
          "name": "stderr",
          "text": [
            "/usr/local/lib/python3.7/dist-packages/ipykernel_launcher.py:7: RuntimeWarning: divide by zero encountered in true_divide\n",
            "  import sys\n",
            "/usr/local/lib/python3.7/dist-packages/ipykernel_launcher.py:7: RuntimeWarning: invalid value encountered in sqrt\n",
            "  import sys\n"
          ]
        },
        {
          "output_type": "stream",
          "name": "stdout",
          "text": [
            "0 4482.829494456841 4.0 44.635957077260485 [0.000000e+00 1.000000e-03 2.000000e-03 ... 4.482827e+03 4.482828e+03\n",
            " 4.482829e+03]\n",
            "% spikes outside bulk 0.00\n",
            "% sigma 44.6360\n"
          ]
        },
        {
          "output_type": "display_data",
          "data": {
            "text/plain": [
              "<Figure size 432x288 with 2 Axes>"
            ],
            "image/png": "[encoded data removed]"
          },
          "metadata": {
            "needs_background": "light"
          }
        }
      ]
    },
    {
      "cell_type": "code",
      "source": [
        "def scree_plot(matrix: np.ndarray, color='blue',label=''):    \n",
        "    evs = get_svs_squared(matrix)\n",
        "    eigvals = np.flip(np.sort(evs), axis=0)\n",
        "    sing_vals = np.arange(len(eigvals)) + 1\n",
        "    plt.plot(sing_vals, eigvals, color, linewidth=1,label=label)\n",
        "\n",
        "scree_plot(test_matrix_1)"
      ],
      "metadata": {
        "id": "w51T_HG3icxH",
        "colab": {
          "base_uri": "https://localhost:8080/",
          "height": 265
        },
        "outputId": "be0aa271-8d01-476d-aac8-ffc50a6a1a96"
      },
      "execution_count": 9,
      "outputs": [
        {
          "output_type": "display_data",
          "data": {
            "text/plain": [
              "<Figure size 432x288 with 1 Axes>"
            ],
            "image/png": "[encoded data removed]"
          },
          "metadata": {
            "needs_background": "light"
          }
        }
      ]
    },
    {
      "cell_type": "code",
      "source": [
        "def get_mu(alpha):\n",
        "    if (alpha >= 2.0 and alpha <= 3.0):\n",
        "        mu = 2.0\n",
        "    elif (alpha < 2.0):\n",
        "        mu = 2.0*(alpha - 1.0)\n",
        "    elif (alpha > 3.0):\n",
        "        mu = alpha - 1.0\n",
        "    return mu\n",
        "\n",
        "def best_dist(fit):\n",
        "    distName = 'power_law'\n",
        "    dist = \"PL\"\n",
        "\n",
        "    R, p = fit.distribution_compare('truncated_power_law', 'power_law', normalized_ratio=True)\n",
        "    if R>0 and p <= 0.05:\n",
        "        distName = 'truncated_power_law'\n",
        "        dist = 'TPL'\n",
        "        \n",
        "    R, p = fit.distribution_compare(distName, 'exponential', normalized_ratio=True)\n",
        "    if R<0 and p <= 0.05:\n",
        "        dist = 'EXP'\n",
        "        return dist\n",
        "\n",
        "    R, p = fit.distribution_compare(distName, 'stretched_exponential', normalized_ratio=True)\n",
        "    if R<0 and p <= 0.05:\n",
        "        dist = 'S_EXP'\n",
        "        return dist\n",
        "        \n",
        "    R, p = fit.distribution_compare(distName, 'lognormal', normalized_ratio=True)\n",
        "    if R<0 and p <= 0.05:\n",
        "        dist = 'LOG_N'\n",
        "        return dist\n",
        "\n",
        "    return dist\n",
        "\n",
        "def fit_powerlaw(evals, verbose=True):\n",
        "    fit = powerlaw.Fit(evals, xmax=np.max(evals))\n",
        "    return [fit.alpha, fit.D, best_dist(fit)]\n",
        "\n",
        "def pareto_pdf(x_min: float, x_max: float, mu=1., scale=1.):\n",
        "    xs = np.arange(x_min, x_max, 0.001)\n",
        "    ys = mu * scale**mu / xs**(mu+1)\n",
        "    return xs, ys \n"
      ],
      "metadata": {
        "id": "L7vnYbmztC0O"
      },
      "execution_count": 10,
      "outputs": []
    },
    {
      "cell_type": "code",
      "source": [
        "def fit_and_plot_powerlaw(matrix: np.ndarray, verbose=True):\n",
        "    evals = get_svs_squared(matrix)\n",
        "    fit = powerlaw.Fit(evals, xmax=np.max(evals))\n",
        "    \n",
        "    alpha, D, best_pl = fit.alpha, fit.D, best_dist(fit)\n",
        "    \n",
        "    print(\"alpha {:3g}, D {:3g}, best_pl  {}\".format(alpha, D, best_pl))\n",
        "    \n",
        "    fig2 = fit.plot_pdf(color='b', linewidth=2)\n",
        "    fit.power_law.plot_pdf(color='b', linestyle='--', ax=fig2)\n",
        "    fit.plot_ccdf(color='r', linewidth=2, ax=fig2)\n",
        "    fit.power_law.plot_ccdf(color='r', linestyle='--', ax=fig2)\n",
        "    plt.show()           \n",
        "            \n",
        "    return alpha, D, dist\n",
        "\n",
        "def fit_and_plot_powerlaw_with_bulk(rect_matrix: np.ndarray, Q=None, sigma=None,\n",
        "                     alpha=0.25, color='blue', skip=False, verbose=True):\n",
        "    eigenvalues = get_svs_squared(rect_matrix)\n",
        "   \n",
        "    if skip:\n",
        "        plt.hist(eigenvalues, bins=100, alpha=alpha, color=color, density=True, label=r'$\\rho_{emp}(\\lambda)$')\n",
        "        return\n",
        "        \n",
        "    # sort, descending order, minus a few max eigenvalues (the spikes)\n",
        "    evals = np.sort(eigenvalues)[::-1]\n",
        "\n",
        "    [mu, _, dist] = fit_powerlaw(evals, verbose=verbose)\n",
        "    scale = 1.\n",
        "\n",
        "    x_min, x_max =  0, np.max(evals)\n",
        "\n",
        "    if dist == \"PL\":\n",
        "        xs, ys = pareto_pdf(x_min, x_max, mu, scale)\n",
        "    else:\n",
        "        raise NotImplementedError(\"Non-PL fit not supported\")\n",
        "\n",
        "    if verbose:\n",
        "        print(\"% mu {0:.4f} scale {0:.4f}\".format(mu, scale))\n",
        "\n",
        "    fig, ax = plt.subplots()\n",
        "    ax.plot(xs, ys, linewidth=1, color = 'r', label=\"MP fit\")\n",
        "    ax2 = ax.twinx()\n",
        "    ax2.hist(eigenvalues, bins=100, alpha=alpha, color=color, density=True, label=r'$\\rho_{emp}(\\lambda)$')\n",
        "    plt.title(\" ESD, MP Sigma={}\".format( sigma))\n",
        "    return sigma"
      ],
      "metadata": {
        "id": "QvAI7t4yuLeR"
      },
      "execution_count": 11,
      "outputs": []
    },
    {
      "cell_type": "code",
      "source": [],
      "metadata": {
        "id": "9CBwEjhG1Eua"
      },
      "execution_count": null,
      "outputs": []
    },
    {
      "cell_type": "code",
      "source": [
        "# HT_Dist = Literal[\"PL\", \"TPL\", \"EXP\", \"S_EXP\", \"LOG_N\"]\n",
        "\n",
        "def gen_heavy_tail_matrix(N: int, M: int, alpha=3., mu=None, scale=1., dist=\"PL\"):\n",
        "    if mu is None:\n",
        "        mu = get_mu(alpha)\n",
        "\n",
        "    if dist == \"PL\":\n",
        "        return (np.random.pareto(mu, size=(N, M)) + 1) * scale\n",
        "\n",
        "    raise NotImplementedError()\n",
        "  \n",
        "test_ht_matrix = gen_heavy_tail_matrix(250, 1000)"
      ],
      "metadata": {
        "id": "kyOq38cMuVwc"
      },
      "execution_count": 12,
      "outputs": []
    },
    {
      "cell_type": "code",
      "source": [
        "fit_and_plot_powerlaw_with_bulk(test_ht_matrix)"
      ],
      "metadata": {
        "colab": {
          "base_uri": "https://localhost:8080/"
        },
        "id": "qRML2VsewOGg",
        "outputId": "1d52e7c1-9e43-4589-93b9-8d4e2d9970c8"
      },
      "execution_count": null,
      "outputs": [
        {
          "output_type": "stream",
          "name": "stdout",
          "text": [
            "Calculating best minimal value for power law fit\n"
          ]
        },
        {
          "output_type": "stream",
          "name": "stderr",
          "text": [
            "Assuming nested distributions\n",
            "/usr/local/lib/python3.7/dist-packages/ipykernel_launcher.py:42: RuntimeWarning: divide by zero encountered in true_divide\n"
          ]
        },
        {
          "output_type": "stream",
          "name": "stdout",
          "text": [
            "% mu 2.2793 scale 2.2793\n"
          ]
        }
      ]
    },
    {
      "cell_type": "code",
      "source": [],
      "metadata": {
        "id": "-MIGE2vzwmla"
      },
      "execution_count": null,
      "outputs": []
    }
  ]
}