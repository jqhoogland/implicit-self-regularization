{
 "cells": [
  {
   "cell_type": "markdown",
   "metadata": {},
   "source": [
    "# ESD for Pytorch pretrained models\n",
    "http://pytorch.org/docs/master/torchvision/models.html\n",
    "\n",
    "Try to auto-fit MP using Kernel Density Estimator (KDE) and Optimizer (i.e LM Fit)\n"
   ]
  },
  {
   "cell_type": "code",
   "execution_count": 1,
   "metadata": {
    "ExecuteTime": {
     "end_time": "2018-08-11T05:24:44.617534Z",
     "start_time": "2018-08-11T05:24:43.522561Z"
    }
   },
   "outputs": [],
   "source": [
    "import torch\n",
    "import torchvision.models as models\n",
    "import torchvision.transforms as transforms\n",
    "import torch.nn as nn\n",
    "\n",
    "import numpy as np\n",
    "import scipy as sp\n",
    "from scipy.linalg import svd\n",
    "\n",
    "import powerlaw\n",
    "\n",
    "import matplotlib\n",
    "import numpy as np\n",
    "import matplotlib.pyplot as plt\n",
    "%matplotlib inline  "
   ]
  },
  {
   "cell_type": "code",
   "execution_count": 2,
   "metadata": {
    "ExecuteTime": {
     "end_time": "2018-08-11T05:24:46.806272Z",
     "start_time": "2018-08-11T05:24:44.619580Z"
    }
   },
   "outputs": [
    {
     "name": "stdout",
     "output_type": "stream",
     "text": [
      "importing notebook from RMT_Util.ipynb\n"
     ]
    },
    {
     "name": "stderr",
     "output_type": "stream",
     "text": [
      "/Users/charlesmartin14/anaconda3/lib/python3.6/importlib/_bootstrap.py:219: RuntimeWarning: compiletime version 3.5 of module 'tensorflow.python.framework.fast_tensor_util' does not match runtime version 3.6\n",
      "  return f(*args, **kwds)\n",
      "/Users/charlesmartin14/.local/lib/python3.6/site-packages/h5py/__init__.py:34: FutureWarning: Conversion of the second argument of issubdtype from `float` to `np.floating` is deprecated. In future, it will be treated as `np.float64 == np.dtype(float).type`.\n",
      "  from ._conv import register_converters as _register_converters\n",
      "Using TensorFlow backend.\n"
     ]
    },
    {
     "name": "stdout",
     "output_type": "stream",
     "text": [
      "3.6.5 |Anaconda custom (64-bit)| (default, Apr 26 2018, 08:42:37) \n",
      "[GCC 4.2.1 Compatible Clang 4.0.1 (tags/RELEASE_401/final)]\n",
      "numpy version 1.14.2\n",
      "scipy version 1.0.1\n",
      "tensforflow version 1.5.0-dev20171116\n",
      "keras version 2.1.5\n",
      "sklearn version 0.19.1\n",
      "powerlaw version 1.4.3\n"
     ]
    }
   ],
   "source": [
    "import import_ipynb\n",
    "import RMT_Util"
   ]
  },
  {
   "cell_type": "code",
   "execution_count": 3,
   "metadata": {
    "ExecuteTime": {
     "end_time": "2018-08-11T05:24:46.812407Z",
     "start_time": "2018-08-11T05:24:46.808860Z"
    }
   },
   "outputs": [],
   "source": [
    "import matplotlib.pyplot as plt\n",
    "plt.rcParams['figure.figsize'] = [5, 5]"
   ]
  },
  {
   "cell_type": "code",
   "execution_count": 4,
   "metadata": {
    "ExecuteTime": {
     "end_time": "2018-08-11T05:24:48.723394Z",
     "start_time": "2018-08-11T05:24:46.814199Z"
    }
   },
   "outputs": [],
   "source": [
    "alexnet = models.alexnet(pretrained=True)"
   ]
  },
  {
   "cell_type": "markdown",
   "metadata": {},
   "source": [
    "### Marchenko Pastur Fit"
   ]
  },
  {
   "cell_type": "markdown",
   "metadata": {},
   "source": [
    "## FC1"
   ]
  },
  {
   "cell_type": "code",
   "execution_count": 5,
   "metadata": {
    "ExecuteTime": {
     "end_time": "2018-08-11T05:27:38.647884Z",
     "start_time": "2018-08-11T05:24:48.725563Z"
    }
   },
   "outputs": [],
   "source": [
    "this_im = 17\n",
    "\n",
    "for im, m in enumerate(alexnet.modules()):\n",
    "    if im == this_im:\n",
    "        W17 = np.array(m.weight.data.clone().cpu()) \n",
    "        Q = RMT_Util.get_Q(W17)\n",
    "        \n",
    "        u, sv, sh = svd(W17)\n",
    "        \n",
    "        evals17 = sv*sv\n",
    "        break"
   ]
  },
  {
   "cell_type": "code",
   "execution_count": 6,
   "metadata": {
    "ExecuteTime": {
     "end_time": "2018-08-11T05:27:39.506729Z",
     "start_time": "2018-08-11T05:27:38.650072Z"
    }
   },
   "outputs": [
    {
     "data": {
      "image/png": "[encoded data removed]",
      "text/plain": [
       "<Figure size 360x360 with 1 Axes>"
      ]
     },
     "metadata": {},
     "output_type": "display_data"
    }
   ],
   "source": [
    "plt.hist(evals17, bins=200,  alpha=0.25, color='blue', density=True);\n",
    "plt.title(r\"Empirical Spectral Density $\\rho(\\lambda)$ for AlexNet, FC1\")\n",
    "plt.ylabel(r\"Spectral Density\")\n",
    "plt.xlabel(r\"Eigenvalues ($\\lambda$) of $\\mathbf{X}=\\mathbf{W}_{FC1}^{T}\\mathbf{W}_{FC1}$\")\n",
    "plt.savefig(\"img/alexnet-fc1-full.png\")"
   ]
  },
  {
   "cell_type": "code",
   "execution_count": 7,
   "metadata": {
    "ExecuteTime": {
     "end_time": "2018-08-11T05:27:39.872515Z",
     "start_time": "2018-08-11T05:27:39.508560Z"
    }
   },
   "outputs": [
    {
     "name": "stderr",
     "output_type": "stream",
     "text": [
      "RMT_Util.ipynb:7: RuntimeWarning: divide by zero encountered in true_divide\n",
      "  \"## RMT Util\\n\",\n",
      "RMT_Util.ipynb:7: RuntimeWarning: invalid value encountered in sqrt\n",
      "  \"## RMT Util\\n\",\n"
     ]
    },
    {
     "name": "stdout",
     "output_type": "stream",
     "text": [
      "% spikes outside bulk 11.13\n",
      "% sigma 0.6057\n"
     ]
    },
    {
     "data": {
      "image/png": "[encoded data removed]",
      "text/plain": [
       "<Figure size 360x360 with 1 Axes>"
      ]
     },
     "metadata": {},
     "output_type": "display_data"
    }
   ],
   "source": [
    "sigma = RMT_Util.plot_ESD_and_fit(model=None,eigenvalues=evals17[evals17<5], weightfile=None, layer=None, \n",
    "                            Q=Q, num_spikes = 400, sigma=None, color='blue')\n",
    "plt.title(r\"ESD $\\rho(\\lambda)$ for AlexNet, FC1, zoomed in\")\n",
    "plt.ylabel(r\"Spectral Density\")\n",
    "plt.xlabel(r\"Eigenvalues ($\\lambda$) of $\\mathbf{X}=\\mathbf{W}_{FC1}^{T}\\mathbf{W}_{FC1}$\")\n",
    "plt.savefig(\"img/alexnet-fc1.png\")"
   ]
  },
  {
   "cell_type": "markdown",
   "metadata": {
    "ExecuteTime": {
     "end_time": "2018-08-11T03:10:48.674479Z",
     "start_time": "2018-08-11T03:10:48.671978Z"
    }
   },
   "source": [
    "### AutoMated Fits\n",
    "\n",
    "FC1 = Layer 17\n",
    "\n",
    "Recall we zoomed in A LOT to fit this, but only dropped 3% of the eigenvalues"
   ]
  },
  {
   "cell_type": "code",
   "execution_count": 8,
   "metadata": {
    "ExecuteTime": {
     "end_time": "2018-08-11T05:27:40.119368Z",
     "start_time": "2018-08-11T05:27:39.875374Z"
    }
   },
   "outputs": [
    {
     "data": {
      "text/plain": [
       "Text(0.5,1,'FC1 layer 17')"
      ]
     },
     "execution_count": 8,
     "metadata": {},
     "output_type": "execute_result"
    },
    {
     "data": {
      "image/png": "[encoded data removed]",
      "text/plain": [
       "<Figure size 360x360 with 1 Axes>"
      ]
     },
     "metadata": {},
     "output_type": "display_data"
    }
   ],
   "source": [
    "plt.hist(evals17, bins=100, density=True);\n",
    "plt.title(\"FC1 layer 17\")"
   ]
  },
  {
   "cell_type": "code",
   "execution_count": 9,
   "metadata": {
    "ExecuteTime": {
     "end_time": "2018-08-11T05:27:40.347221Z",
     "start_time": "2018-08-11T05:27:40.120979Z"
    }
   },
   "outputs": [
    {
     "data": {
      "text/plain": [
       "(3993, 4096, 97.4853515625)"
      ]
     },
     "execution_count": 9,
     "metadata": {},
     "output_type": "execute_result"
    },
    {
     "data": {
      "image/png": "[encoded data removed]",
      "text/plain": [
       "<Figure size 360x360 with 1 Axes>"
      ]
     },
     "metadata": {},
     "output_type": "display_data"
    }
   ],
   "source": [
    "plt.hist(evals17[evals17<5], bins=100,density=True);\n",
    "len(evals17[evals17<5]), len(evals17), 100.0*len(evals17[evals17<5])/len(evals17)"
   ]
  },
  {
   "cell_type": "markdown",
   "metadata": {
    "ExecuteTime": {
     "end_time": "2018-08-11T03:21:53.204803Z",
     "start_time": "2018-08-11T03:21:53.202482Z"
    }
   },
   "source": [
    "### KDE"
   ]
  },
  {
   "cell_type": "code",
   "execution_count": 10,
   "metadata": {
    "ExecuteTime": {
     "end_time": "2018-08-11T05:27:40.351327Z",
     "start_time": "2018-08-11T05:27:40.349001Z"
    }
   },
   "outputs": [],
   "source": [
    "from scipy import optimize\n",
    "from sklearn.neighbors import KernelDensity"
   ]
  },
  {
   "cell_type": "code",
   "execution_count": 11,
   "metadata": {
    "ExecuteTime": {
     "end_time": "2018-08-11T05:27:40.637825Z",
     "start_time": "2018-08-11T05:27:40.353026Z"
    }
   },
   "outputs": [
    {
     "name": "stdout",
     "output_type": "stream",
     "text": [
      "% spikes outside bulk 7.90\n",
      "% sigma 0.7069\n"
     ]
    },
    {
     "name": "stderr",
     "output_type": "stream",
     "text": [
      "RMT_Util.ipynb:7: RuntimeWarning: divide by zero encountered in true_divide\n",
      "  \"## RMT Util\\n\",\n",
      "RMT_Util.ipynb:7: RuntimeWarning: invalid value encountered in sqrt\n",
      "  \"## RMT Util\\n\",\n"
     ]
    },
    {
     "data": {
      "text/plain": [
       "[<matplotlib.lines.Line2D at 0x13480ac88>]"
      ]
     },
     "execution_count": 11,
     "metadata": {},
     "output_type": "execute_result"
    },
    {
     "data": {
      "image/png": "[encoded data removed]",
      "text/plain": [
       "<Figure size 360x360 with 1 Axes>"
      ]
     },
     "metadata": {},
     "output_type": "display_data"
    }
   ],
   "source": [
    "evals = evals17\n",
    "RMT_Util.plot_ESD_and_fit(model=None, eigenvalues=evals, Q=Q, num_spikes=300)\n",
    "plt.xlim(0,5)\n",
    "\n",
    "kde = KernelDensity(kernel='linear', bandwidth=0.25).fit(evals.reshape(-1, 1))\n",
    "X_plot = np.linspace(0, np.max(evals), 1000)[:, np.newaxis]\n",
    "log_dens = kde.score_samples(X_plot)\n",
    "plt.plot(X_plot[:, 0], np.exp(log_dens))"
   ]
  },
  {
   "cell_type": "code",
   "execution_count": 12,
   "metadata": {
    "ExecuteTime": {
     "end_time": "2018-08-11T05:27:41.027982Z",
     "start_time": "2018-08-11T05:27:40.640381Z"
    }
   },
   "outputs": [
    {
     "name": "stdout",
     "output_type": "stream",
     "text": [
      "% spikes outside bulk 21.26\n",
      "% sigma 0.5358\n"
     ]
    },
    {
     "name": "stderr",
     "output_type": "stream",
     "text": [
      "RMT_Util.ipynb:7: RuntimeWarning: divide by zero encountered in true_divide\n",
      "  \"## RMT Util\\n\",\n",
      "RMT_Util.ipynb:7: RuntimeWarning: invalid value encountered in sqrt\n",
      "  \"## RMT Util\\n\",\n"
     ]
    },
    {
     "data": {
      "text/plain": [
       "[<matplotlib.lines.Line2D at 0x1348b2f28>]"
      ]
     },
     "execution_count": 12,
     "metadata": {},
     "output_type": "execute_result"
    },
    {
     "data": {
      "image/png": "[encoded data removed]",
      "text/plain": [
       "<Figure size 360x360 with 1 Axes>"
      ]
     },
     "metadata": {},
     "output_type": "display_data"
    }
   ],
   "source": [
    "evals = evals17[evals17<5]\n",
    "sigma = RMT_Util.plot_ESD_and_fit(model=None, eigenvalues=evals, Q=Q, num_spikes=700)\n",
    "plt.title(\"ALexNet FC1 KDE (blue) vs MP (red)\")\n",
    "\n",
    "kde = KernelDensity(kernel='linear', bandwidth=0.25).fit(evals.reshape(-1, 1))\n",
    "X_plot = np.linspace(0, np.max(evals), 1000)[:, np.newaxis]\n",
    "log_dens = kde.score_samples(X_plot)\n",
    "plt.plot(X_plot[:, 0], np.exp(log_dens))"
   ]
  },
  {
   "cell_type": "code",
   "execution_count": 15,
   "metadata": {
    "ExecuteTime": {
     "end_time": "2018-08-11T05:27:41.970078Z",
     "start_time": "2018-08-11T05:27:41.725933Z"
    }
   },
   "outputs": [
    {
     "name": "stdout",
     "output_type": "stream",
     "text": [
      "% spikes outside bulk 2.57\n",
      "% sigma 0.6852\n"
     ]
    },
    {
     "name": "stderr",
     "output_type": "stream",
     "text": [
      "RMT_Util.ipynb:7: RuntimeWarning: divide by zero encountered in true_divide\n",
      "  \"## RMT Util\\n\",\n",
      "RMT_Util.ipynb:7: RuntimeWarning: invalid value encountered in sqrt\n",
      "  \"## RMT Util\\n\",\n"
     ]
    },
    {
     "data": {
      "text/plain": [
       "Text(0.5,1,'MP fit to FC1, sigma auto-fit')"
      ]
     },
     "execution_count": 15,
     "metadata": {},
     "output_type": "execute_result"
    },
    {
     "data": {
      "image/png": "[encoded data removed]",
      "text/plain": [
       "<Figure size 360x360 with 1 Axes>"
      ]
     },
     "metadata": {},
     "output_type": "display_data"
    }
   ],
   "source": [
    "s1 = RMT_Util.fit_mp(evals17, Q)\n",
    "RMT_Util.plot_ESD_and_fit(model=None, eigenvalues=evals, Q=Q, num_spikes=100, sigma=s1)\n",
    "plt.title(\"MP fit to FC1, sigma auto-fit\")"
   ]
  },
  {
   "cell_type": "code",
   "execution_count": 17,
   "metadata": {
    "ExecuteTime": {
     "end_time": "2018-08-11T05:34:40.754035Z",
     "start_time": "2018-08-11T05:34:40.685182Z"
    }
   },
   "outputs": [
    {
     "data": {
      "text/plain": [
       "0.03698511617935258"
      ]
     },
     "execution_count": 17,
     "metadata": {},
     "output_type": "execute_result"
    }
   ],
   "source": [
    "RMT_Util.calc_mp_soft_rank(evals=evals17,Q=Q, sigma=s1)"
   ]
  },
  {
   "cell_type": "markdown",
   "metadata": {},
   "source": [
    "### FC2"
   ]
  },
  {
   "cell_type": "code",
   "execution_count": 18,
   "metadata": {
    "ExecuteTime": {
     "end_time": "2018-08-11T05:36:53.434661Z",
     "start_time": "2018-08-11T05:34:43.370043Z"
    }
   },
   "outputs": [],
   "source": [
    "this_im = 20\n",
    "\n",
    "for im, m in enumerate(alexnet.modules()):\n",
    "    if im == this_im:\n",
    "        W20 = np.array(m.weight.data.clone().cpu()) \n",
    "        Q = RMT_Util.get_Q(W20)\n",
    "        \n",
    "        u, sv, sh = svd(W20)\n",
    "        \n",
    "        evals20 = sv*sv\n",
    "        break"
   ]
  },
  {
   "cell_type": "code",
   "execution_count": 19,
   "metadata": {
    "ExecuteTime": {
     "end_time": "2018-08-11T05:36:54.387145Z",
     "start_time": "2018-08-11T05:36:53.442555Z"
    }
   },
   "outputs": [
    {
     "name": "stderr",
     "output_type": "stream",
     "text": [
      "RMT_Util.ipynb:6: RuntimeWarning: divide by zero encountered in true_divide\n",
      "  \"source\": [\n",
      "RMT_Util.ipynb:6: RuntimeWarning: invalid value encountered in sqrt\n",
      "  \"source\": [\n",
      "RMT_Util.ipynb:6: RuntimeWarning: invalid value encountered in multiply\n",
      "  \"source\": [\n"
     ]
    }
   ],
   "source": []
  },
  {
   "cell_type": "code",
   "execution_count": 22,
   "metadata": {
    "ExecuteTime": {
     "end_time": "2018-08-11T05:36:55.436557Z",
     "start_time": "2018-08-11T05:36:55.211617Z"
    }
   },
   "outputs": [
    {
     "name": "stdout",
     "output_type": "stream",
     "text": [
      "% spikes outside bulk 2.57\n",
      "% sigma 0.7045\n"
     ]
    },
    {
     "name": "stderr",
     "output_type": "stream",
     "text": [
      "RMT_Util.ipynb:7: RuntimeWarning: divide by zero encountered in true_divide\n",
      "  \"## RMT Util\\n\",\n",
      "RMT_Util.ipynb:7: RuntimeWarning: invalid value encountered in multiply\n",
      "  \"## RMT Util\\n\",\n"
     ]
    },
    {
     "data": {
      "text/plain": [
       "(0, 5)"
      ]
     },
     "execution_count": 22,
     "metadata": {},
     "output_type": "execute_result"
    },
    {
     "data": {
      "image/png": "[encoded data removed]",
      "text/plain": [
       "<Figure size 360x360 with 1 Axes>"
      ]
     },
     "metadata": {},
     "output_type": "display_data"
    }
   ],
   "source": [
    "s1 = RMT_Util.fit_mp(evals20, Q)\n",
    "RMT_Util.plot_ESD_and_fit(model=None, eigenvalues=evals, Q=Q, num_spikes=100)\n",
    "plt.xlim(0,5)"
   ]
  },
  {
   "cell_type": "code",
   "execution_count": 23,
   "metadata": {
    "ExecuteTime": {
     "end_time": "2018-08-11T05:36:56.057926Z",
     "start_time": "2018-08-11T05:36:55.438566Z"
    }
   },
   "outputs": [
    {
     "name": "stdout",
     "output_type": "stream",
     "text": [
      "% spikes outside bulk 0.00\n",
      "% sigma 0.5159\n"
     ]
    },
    {
     "name": "stderr",
     "output_type": "stream",
     "text": [
      "RMT_Util.ipynb:7: RuntimeWarning: divide by zero encountered in true_divide\n",
      "  \"## RMT Util\\n\",\n",
      "RMT_Util.ipynb:7: RuntimeWarning: invalid value encountered in sqrt\n",
      "  \"## RMT Util\\n\",\n",
      "RMT_Util.ipynb:7: RuntimeWarning: invalid value encountered in multiply\n",
      "  \"## RMT Util\\n\",\n"
     ]
    },
    {
     "data": {
      "text/plain": [
       "(0, 4)"
      ]
     },
     "execution_count": 23,
     "metadata": {},
     "output_type": "execute_result"
    },
    {
     "data": {
      "image/png": "[encoded data removed]",
      "text/plain": [
       "<Figure size 360x360 with 1 Axes>"
      ]
     },
     "metadata": {},
     "output_type": "display_data"
    }
   ],
   "source": [
    "RMT_Util.plot_ESD_and_fit(model=None, eigenvalues=evals, Q=Q, sigma=s1)\n",
    "plt.xlim(0,5)\n",
    "plt.ylim(0,4)"
   ]
  },
  {
   "cell_type": "code",
   "execution_count": 24,
   "metadata": {
    "ExecuteTime": {
     "end_time": "2018-08-11T05:36:56.063988Z",
     "start_time": "2018-08-11T05:36:56.059897Z"
    }
   },
   "outputs": [
    {
     "data": {
      "text/plain": [
       "0.030190051669856464"
      ]
     },
     "execution_count": 24,
     "metadata": {},
     "output_type": "execute_result"
    }
   ],
   "source": [
    "RMT_Util.calc_mp_soft_rank(evals=evals17,Q=Q, sigma=s1)"
   ]
  },
  {
   "cell_type": "markdown",
   "metadata": {},
   "source": [
    "### FC3"
   ]
  },
  {
   "cell_type": "code",
   "execution_count": 25,
   "metadata": {
    "ExecuteTime": {
     "end_time": "2018-08-11T05:37:03.546382Z",
     "start_time": "2018-08-11T05:36:56.065832Z"
    }
   },
   "outputs": [],
   "source": [
    "this_im = 22\n",
    "\n",
    "for im, m in enumerate(alexnet.modules()):\n",
    "    if im == this_im:\n",
    "        W22 = np.array(m.weight.data.clone().cpu()) \n",
    "        Q = RMT_Util.get_Q(W22)\n",
    "        \n",
    "        u, sv, sh = svd(W22)\n",
    "        \n",
    "        evals22 = sv*sv\n",
    "        break"
   ]
  },
  {
   "cell_type": "code",
   "execution_count": 26,
   "metadata": {
    "ExecuteTime": {
     "end_time": "2018-08-11T05:37:03.794877Z",
     "start_time": "2018-08-11T05:37:03.549670Z"
    }
   },
   "outputs": [
    {
     "name": "stdout",
     "output_type": "stream",
     "text": [
      "% spikes outside bulk 11.11\n",
      "% sigma 1.1007\n"
     ]
    },
    {
     "name": "stderr",
     "output_type": "stream",
     "text": [
      "RMT_Util.ipynb:7: RuntimeWarning: divide by zero encountered in true_divide\n",
      "  \"## RMT Util\\n\",\n",
      "RMT_Util.ipynb:7: RuntimeWarning: invalid value encountered in sqrt\n",
      "  \"## RMT Util\\n\",\n"
     ]
    },
    {
     "data": {
      "text/plain": [
       "(0, 10)"
      ]
     },
     "execution_count": 26,
     "metadata": {},
     "output_type": "execute_result"
    },
    {
     "data": {
      "image/png": "[encoded data removed]",
      "text/plain": [
       "<Figure size 360x360 with 1 Axes>"
      ]
     },
     "metadata": {},
     "output_type": "display_data"
    }
   ],
   "source": [
    "RMT_Util.plot_ESD_and_fit(model=None, eigenvalues=evals22, Q=Q, num_spikes=100)\n",
    "plt.xlim(0,10)"
   ]
  },
  {
   "cell_type": "code",
   "execution_count": 29,
   "metadata": {
    "ExecuteTime": {
     "end_time": "2018-08-11T05:37:05.523405Z",
     "start_time": "2018-08-11T05:37:03.886022Z"
    }
   },
   "outputs": [
    {
     "name": "stderr",
     "output_type": "stream",
     "text": [
      "RMT_Util.ipynb:7: RuntimeWarning: divide by zero encountered in true_divide\n",
      "  \"## RMT Util\\n\",\n",
      "RMT_Util.ipynb:7: RuntimeWarning: invalid value encountered in sqrt\n",
      "  \"## RMT Util\\n\",\n"
     ]
    },
    {
     "name": "stdout",
     "output_type": "stream",
     "text": [
      "% spikes outside bulk 0.00\n",
      "% sigma 0.9866\n"
     ]
    },
    {
     "data": {
      "image/png": "[encoded data removed]",
      "text/plain": [
       "<Figure size 360x360 with 1 Axes>"
      ]
     },
     "metadata": {},
     "output_type": "display_data"
    }
   ],
   "source": [
    "s1 = RMT_Util.fit_mp(evals22, Q)\n",
    "RMT_Util.plot_ESD_and_fit(model=None, eigenvalues=evals22, Q=Q, sigma=s1)\n",
    "plt.xlim(0,10)\n",
    "plt.hist(evals22,bins=1000, density=True);"
   ]
  },
  {
   "cell_type": "code",
   "execution_count": 30,
   "metadata": {
    "ExecuteTime": {
     "end_time": "2018-08-11T05:37:05.530388Z",
     "start_time": "2018-08-11T05:37:05.525307Z"
    }
   },
   "outputs": [
    {
     "data": {
      "text/plain": [
       "0.061624154661628676"
      ]
     },
     "execution_count": 30,
     "metadata": {},
     "output_type": "execute_result"
    }
   ],
   "source": [
    "RMT_Util.calc_mp_soft_rank(evals=evals17,Q=Q, sigma=s1)"
   ]
  },
  {
   "cell_type": "code",
   "execution_count": null,
   "metadata": {},
   "outputs": [],
   "source": []
  },
  {
   "cell_type": "code",
   "execution_count": null,
   "metadata": {},
   "outputs": [],
   "source": []
  },
  {
   "cell_type": "code",
   "execution_count": null,
   "metadata": {},
   "outputs": [],
   "source": []
  }
 ],
 "metadata": {
  "kernelspec": {
   "display_name": "Python 3.10.4 64-bit ('3.10.4')",
   "language": "python",
   "name": "python3"
  },
  "language_info": {
   "codemirror_mode": {
    "name": "ipython",
    "version": 3
   },
   "file_extension": ".py",
   "mimetype": "text/x-python",
   "name": "python",
   "nbconvert_exporter": "python",
   "pygments_lexer": "ipython3",
   "version": "3.10.4"
  },
  "vscode": {
   "interpreter": {
    "hash": "566ebdab7fa55cda649a271facedb3802cb49113077ba2088af32b3c4fcafbd2"
   }
  }
 },
 "nbformat": 4,
 "nbformat_minor": 2
}
